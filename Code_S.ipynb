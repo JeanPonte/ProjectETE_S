{
 "cells": [
  {
   "cell_type": "markdown",
   "id": "9381b993",
   "metadata": {},
   "source": [
    "## Pré-processamento de Dados\n",
    "Fase de limpeza e tratamento de dados, para torna-los utilizáveis."
   ]
  },
  {
   "cell_type": "markdown",
   "id": "8a758114",
   "metadata": {},
   "source": [
    "### Importação de bibliotecas"
   ]
  },
  {
   "cell_type": "code",
   "execution_count": 1,
   "id": "d8ccd8e5",
   "metadata": {
    "ExecuteTime": {
     "end_time": "2024-06-12T00:57:38.382525Z",
     "start_time": "2024-06-12T00:57:37.119241Z"
    }
   },
   "outputs": [],
   "source": [
    "import pandas as pd\n",
    "import numpy as np\n",
    "import matplotlib.pyplot as plt\n",
    "import os"
   ]
  },
  {
   "cell_type": "markdown",
   "id": "26df5c60",
   "metadata": {},
   "source": [
    "### Importação dos dados\n",
    "Já que os conjuntos de dados (Datasets) contém bastante dados, vou usar apenas um deles para auxiliar no tratamento e na limpeza, e depois será replicados no outros conjuntos. Assim reduzindo o custo computacional. "
   ]
  },
  {
   "cell_type": "code",
   "execution_count": 2,
   "id": "a70a3fc2",
   "metadata": {
    "ExecuteTime": {
     "end_time": "2024-06-12T00:57:38.398529Z",
     "start_time": "2024-06-12T00:57:38.384525Z"
    }
   },
   "outputs": [],
   "source": [
    "path = \"Dados_SUS/CSV_FILE\" #Caminho da pasta\n",
    "# print(os.listdir(path)) #Comando para ver os arquivos na pasta"
   ]
  },
  {
   "cell_type": "code",
   "execution_count": 45,
   "id": "d3d4752e",
   "metadata": {
    "ExecuteTime": {
     "end_time": "2024-06-12T01:28:16.786660Z",
     "start_time": "2024-06-12T01:28:15.888401Z"
    }
   },
   "outputs": [
    {
     "name": "stderr",
     "output_type": "stream",
     "text": [
      "C:\\Users\\Jnpx_\\AppData\\Local\\Temp\\ipykernel_4944\\1817913552.py:3: DtypeWarning: Columns (66) have mixed types. Specify dtype option on import or set low_memory=False.\n",
      "  df_geral = pd.read_csv(file,encoding='latin-1')\n"
     ]
    },
    {
     "data": {
      "text/html": [
       "<div>\n",
       "<style scoped>\n",
       "    .dataframe tbody tr th:only-of-type {\n",
       "        vertical-align: middle;\n",
       "    }\n",
       "\n",
       "    .dataframe tbody tr th {\n",
       "        vertical-align: top;\n",
       "    }\n",
       "\n",
       "    .dataframe thead th {\n",
       "        text-align: right;\n",
       "    }\n",
       "</style>\n",
       "<table border=\"1\" class=\"dataframe\">\n",
       "  <thead>\n",
       "    <tr style=\"text-align: right;\">\n",
       "      <th></th>\n",
       "      <th>ORIGEM</th>\n",
       "      <th>TIPOBITO</th>\n",
       "      <th>DTOBITO</th>\n",
       "      <th>HORAOBITO</th>\n",
       "      <th>NATURAL</th>\n",
       "      <th>CODMUNNATU</th>\n",
       "      <th>DTNASC</th>\n",
       "      <th>IDADE</th>\n",
       "      <th>SEXO</th>\n",
       "      <th>RACACOR</th>\n",
       "      <th>...</th>\n",
       "      <th>FONTES</th>\n",
       "      <th>TPRESGINFO</th>\n",
       "      <th>TPNIVELINV</th>\n",
       "      <th>NUDIASINF</th>\n",
       "      <th>DTCADINF</th>\n",
       "      <th>MORTEPARTO</th>\n",
       "      <th>DTCONCASO</th>\n",
       "      <th>FONTESINF</th>\n",
       "      <th>ALTCAUSA</th>\n",
       "      <th>CONTADOR</th>\n",
       "    </tr>\n",
       "  </thead>\n",
       "  <tbody>\n",
       "    <tr>\n",
       "      <th>0</th>\n",
       "      <td>1</td>\n",
       "      <td>2</td>\n",
       "      <td>25012019</td>\n",
       "      <td>15.0</td>\n",
       "      <td>842.0</td>\n",
       "      <td>421220.0</td>\n",
       "      <td>10121978.0</td>\n",
       "      <td>440</td>\n",
       "      <td>1</td>\n",
       "      <td>1.0</td>\n",
       "      <td>...</td>\n",
       "      <td>NaN</td>\n",
       "      <td>NaN</td>\n",
       "      <td>NaN</td>\n",
       "      <td>NaN</td>\n",
       "      <td>NaN</td>\n",
       "      <td>NaN</td>\n",
       "      <td>NaN</td>\n",
       "      <td>NaN</td>\n",
       "      <td>NaN</td>\n",
       "      <td>11</td>\n",
       "    </tr>\n",
       "    <tr>\n",
       "      <th>1</th>\n",
       "      <td>1</td>\n",
       "      <td>2</td>\n",
       "      <td>25012019</td>\n",
       "      <td>545.0</td>\n",
       "      <td>842.0</td>\n",
       "      <td>420460.0</td>\n",
       "      <td>11121993.0</td>\n",
       "      <td>425</td>\n",
       "      <td>2</td>\n",
       "      <td>1.0</td>\n",
       "      <td>...</td>\n",
       "      <td>NaN</td>\n",
       "      <td>NaN</td>\n",
       "      <td>M</td>\n",
       "      <td>NaN</td>\n",
       "      <td>NaN</td>\n",
       "      <td>NaN</td>\n",
       "      <td>NaN</td>\n",
       "      <td>NaN</td>\n",
       "      <td>NaN</td>\n",
       "      <td>12</td>\n",
       "    </tr>\n",
       "    <tr>\n",
       "      <th>2</th>\n",
       "      <td>1</td>\n",
       "      <td>2</td>\n",
       "      <td>25012019</td>\n",
       "      <td>2100.0</td>\n",
       "      <td>842.0</td>\n",
       "      <td>420460.0</td>\n",
       "      <td>7111942.0</td>\n",
       "      <td>476</td>\n",
       "      <td>1</td>\n",
       "      <td>1.0</td>\n",
       "      <td>...</td>\n",
       "      <td>NaN</td>\n",
       "      <td>NaN</td>\n",
       "      <td>NaN</td>\n",
       "      <td>NaN</td>\n",
       "      <td>NaN</td>\n",
       "      <td>NaN</td>\n",
       "      <td>NaN</td>\n",
       "      <td>NaN</td>\n",
       "      <td>NaN</td>\n",
       "      <td>13</td>\n",
       "    </tr>\n",
       "    <tr>\n",
       "      <th>3</th>\n",
       "      <td>1</td>\n",
       "      <td>2</td>\n",
       "      <td>27012019</td>\n",
       "      <td>1922.0</td>\n",
       "      <td>843.0</td>\n",
       "      <td>431340.0</td>\n",
       "      <td>3041995.0</td>\n",
       "      <td>423</td>\n",
       "      <td>1</td>\n",
       "      <td>1.0</td>\n",
       "      <td>...</td>\n",
       "      <td>NaN</td>\n",
       "      <td>NaN</td>\n",
       "      <td>NaN</td>\n",
       "      <td>NaN</td>\n",
       "      <td>NaN</td>\n",
       "      <td>NaN</td>\n",
       "      <td>NaN</td>\n",
       "      <td>NaN</td>\n",
       "      <td>NaN</td>\n",
       "      <td>14</td>\n",
       "    </tr>\n",
       "    <tr>\n",
       "      <th>4</th>\n",
       "      <td>1</td>\n",
       "      <td>2</td>\n",
       "      <td>28012019</td>\n",
       "      <td>1130.0</td>\n",
       "      <td>842.0</td>\n",
       "      <td>421900.0</td>\n",
       "      <td>12111955.0</td>\n",
       "      <td>463</td>\n",
       "      <td>1</td>\n",
       "      <td>1.0</td>\n",
       "      <td>...</td>\n",
       "      <td>NaN</td>\n",
       "      <td>NaN</td>\n",
       "      <td>NaN</td>\n",
       "      <td>NaN</td>\n",
       "      <td>NaN</td>\n",
       "      <td>NaN</td>\n",
       "      <td>NaN</td>\n",
       "      <td>NaN</td>\n",
       "      <td>NaN</td>\n",
       "      <td>15</td>\n",
       "    </tr>\n",
       "    <tr>\n",
       "      <th>5</th>\n",
       "      <td>1</td>\n",
       "      <td>2</td>\n",
       "      <td>11022019</td>\n",
       "      <td>1630.0</td>\n",
       "      <td>850.0</td>\n",
       "      <td>500345.0</td>\n",
       "      <td>30121971.0</td>\n",
       "      <td>447</td>\n",
       "      <td>1</td>\n",
       "      <td>4.0</td>\n",
       "      <td>...</td>\n",
       "      <td>NaN</td>\n",
       "      <td>NaN</td>\n",
       "      <td>NaN</td>\n",
       "      <td>NaN</td>\n",
       "      <td>NaN</td>\n",
       "      <td>NaN</td>\n",
       "      <td>NaN</td>\n",
       "      <td>NaN</td>\n",
       "      <td>NaN</td>\n",
       "      <td>30</td>\n",
       "    </tr>\n",
       "    <tr>\n",
       "      <th>6</th>\n",
       "      <td>1</td>\n",
       "      <td>2</td>\n",
       "      <td>24012019</td>\n",
       "      <td>2245.0</td>\n",
       "      <td>823.0</td>\n",
       "      <td>231400.0</td>\n",
       "      <td>5021942.0</td>\n",
       "      <td>476</td>\n",
       "      <td>2</td>\n",
       "      <td>4.0</td>\n",
       "      <td>...</td>\n",
       "      <td>NaN</td>\n",
       "      <td>NaN</td>\n",
       "      <td>NaN</td>\n",
       "      <td>NaN</td>\n",
       "      <td>NaN</td>\n",
       "      <td>NaN</td>\n",
       "      <td>NaN</td>\n",
       "      <td>NaN</td>\n",
       "      <td>NaN</td>\n",
       "      <td>35</td>\n",
       "    </tr>\n",
       "    <tr>\n",
       "      <th>7</th>\n",
       "      <td>1</td>\n",
       "      <td>2</td>\n",
       "      <td>21012019</td>\n",
       "      <td>1330.0</td>\n",
       "      <td>823.0</td>\n",
       "      <td>230840.0</td>\n",
       "      <td>21061951.0</td>\n",
       "      <td>467</td>\n",
       "      <td>1</td>\n",
       "      <td>4.0</td>\n",
       "      <td>...</td>\n",
       "      <td>NaN</td>\n",
       "      <td>NaN</td>\n",
       "      <td>NaN</td>\n",
       "      <td>NaN</td>\n",
       "      <td>NaN</td>\n",
       "      <td>NaN</td>\n",
       "      <td>NaN</td>\n",
       "      <td>NaN</td>\n",
       "      <td>NaN</td>\n",
       "      <td>36</td>\n",
       "    </tr>\n",
       "    <tr>\n",
       "      <th>8</th>\n",
       "      <td>1</td>\n",
       "      <td>2</td>\n",
       "      <td>8022019</td>\n",
       "      <td>1252.0</td>\n",
       "      <td>835.0</td>\n",
       "      <td>352400.0</td>\n",
       "      <td>8101959.0</td>\n",
       "      <td>459</td>\n",
       "      <td>1</td>\n",
       "      <td>3.0</td>\n",
       "      <td>...</td>\n",
       "      <td>NaN</td>\n",
       "      <td>NaN</td>\n",
       "      <td>NaN</td>\n",
       "      <td>NaN</td>\n",
       "      <td>NaN</td>\n",
       "      <td>NaN</td>\n",
       "      <td>NaN</td>\n",
       "      <td>NaN</td>\n",
       "      <td>NaN</td>\n",
       "      <td>59</td>\n",
       "    </tr>\n",
       "    <tr>\n",
       "      <th>9</th>\n",
       "      <td>1</td>\n",
       "      <td>2</td>\n",
       "      <td>11022019</td>\n",
       "      <td>1820.0</td>\n",
       "      <td>826.0</td>\n",
       "      <td>260190.0</td>\n",
       "      <td>16061939.0</td>\n",
       "      <td>479</td>\n",
       "      <td>2</td>\n",
       "      <td>1.0</td>\n",
       "      <td>...</td>\n",
       "      <td>NaN</td>\n",
       "      <td>NaN</td>\n",
       "      <td>NaN</td>\n",
       "      <td>NaN</td>\n",
       "      <td>NaN</td>\n",
       "      <td>NaN</td>\n",
       "      <td>NaN</td>\n",
       "      <td>NaN</td>\n",
       "      <td>NaN</td>\n",
       "      <td>60</td>\n",
       "    </tr>\n",
       "  </tbody>\n",
       "</table>\n",
       "<p>10 rows × 87 columns</p>\n",
       "</div>"
      ],
      "text/plain": [
       "   ORIGEM  TIPOBITO   DTOBITO  HORAOBITO  NATURAL  CODMUNNATU      DTNASC  \\\n",
       "0       1         2  25012019       15.0    842.0    421220.0  10121978.0   \n",
       "1       1         2  25012019      545.0    842.0    420460.0  11121993.0   \n",
       "2       1         2  25012019     2100.0    842.0    420460.0   7111942.0   \n",
       "3       1         2  27012019     1922.0    843.0    431340.0   3041995.0   \n",
       "4       1         2  28012019     1130.0    842.0    421900.0  12111955.0   \n",
       "5       1         2  11022019     1630.0    850.0    500345.0  30121971.0   \n",
       "6       1         2  24012019     2245.0    823.0    231400.0   5021942.0   \n",
       "7       1         2  21012019     1330.0    823.0    230840.0  21061951.0   \n",
       "8       1         2   8022019     1252.0    835.0    352400.0   8101959.0   \n",
       "9       1         2  11022019     1820.0    826.0    260190.0  16061939.0   \n",
       "\n",
       "   IDADE  SEXO  RACACOR  ...  FONTES  TPRESGINFO  TPNIVELINV  NUDIASINF  \\\n",
       "0    440     1      1.0  ...     NaN         NaN         NaN        NaN   \n",
       "1    425     2      1.0  ...     NaN         NaN           M        NaN   \n",
       "2    476     1      1.0  ...     NaN         NaN         NaN        NaN   \n",
       "3    423     1      1.0  ...     NaN         NaN         NaN        NaN   \n",
       "4    463     1      1.0  ...     NaN         NaN         NaN        NaN   \n",
       "5    447     1      4.0  ...     NaN         NaN         NaN        NaN   \n",
       "6    476     2      4.0  ...     NaN         NaN         NaN        NaN   \n",
       "7    467     1      4.0  ...     NaN         NaN         NaN        NaN   \n",
       "8    459     1      3.0  ...     NaN         NaN         NaN        NaN   \n",
       "9    479     2      1.0  ...     NaN         NaN         NaN        NaN   \n",
       "\n",
       "   DTCADINF  MORTEPARTO  DTCONCASO  FONTESINF  ALTCAUSA  CONTADOR  \n",
       "0       NaN         NaN        NaN        NaN       NaN        11  \n",
       "1       NaN         NaN        NaN        NaN       NaN        12  \n",
       "2       NaN         NaN        NaN        NaN       NaN        13  \n",
       "3       NaN         NaN        NaN        NaN       NaN        14  \n",
       "4       NaN         NaN        NaN        NaN       NaN        15  \n",
       "5       NaN         NaN        NaN        NaN       NaN        30  \n",
       "6       NaN         NaN        NaN        NaN       NaN        35  \n",
       "7       NaN         NaN        NaN        NaN       NaN        36  \n",
       "8       NaN         NaN        NaN        NaN       NaN        59  \n",
       "9       NaN         NaN        NaN        NaN       NaN        60  \n",
       "\n",
       "[10 rows x 87 columns]"
      ]
     },
     "metadata": {},
     "output_type": "display_data"
    }
   ],
   "source": [
    "arq = 'DOEXT19'\n",
    "file = f\"{path}/{arq}.csv\"\n",
    "df_geral = pd.read_csv(file,encoding='latin-1')\n",
    "display(df_geral.head(10))\n",
    "#print(df_geral.columns.to_list()) #Ver todas as colunas do dataset"
   ]
  },
  {
   "cell_type": "markdown",
   "id": "06c5b02e",
   "metadata": {},
   "source": [
    "### Tramento de dados"
   ]
  },
  {
   "cell_type": "markdown",
   "id": "f1773f61",
   "metadata": {},
   "source": [
    "Para não ser custoso computacionalmente, a seleção visa a redução da quantidade de colunas."
   ]
  },
  {
   "cell_type": "code",
   "execution_count": 46,
   "id": "1d7a4880",
   "metadata": {
    "ExecuteTime": {
     "end_time": "2024-06-12T01:28:22.382350Z",
     "start_time": "2024-06-12T01:28:22.365458Z"
    }
   },
   "outputs": [],
   "source": [
    "colunas_selecionadas = ['DTNASC','DTOBITO','IDADE',\n",
    "                        'SEXO','RACACOR','ESTCIV','ESC',\n",
    "                        'ESC2010','OCUP','CIRCOBITO','CODMUNRES']"
   ]
  },
  {
   "cell_type": "code",
   "execution_count": 47,
   "id": "51332944",
   "metadata": {
    "ExecuteTime": {
     "end_time": "2024-06-12T01:28:23.967242Z",
     "start_time": "2024-06-12T01:28:23.453126Z"
    }
   },
   "outputs": [
    {
     "data": {
      "text/html": [
       "<div>\n",
       "<style scoped>\n",
       "    .dataframe tbody tr th:only-of-type {\n",
       "        vertical-align: middle;\n",
       "    }\n",
       "\n",
       "    .dataframe tbody tr th {\n",
       "        vertical-align: top;\n",
       "    }\n",
       "\n",
       "    .dataframe thead th {\n",
       "        text-align: right;\n",
       "    }\n",
       "</style>\n",
       "<table border=\"1\" class=\"dataframe\">\n",
       "  <thead>\n",
       "    <tr style=\"text-align: right;\">\n",
       "      <th></th>\n",
       "      <th>DTOBITO</th>\n",
       "      <th>DTNASC</th>\n",
       "      <th>IDADE</th>\n",
       "      <th>SEXO</th>\n",
       "      <th>RACACOR</th>\n",
       "      <th>ESTCIV</th>\n",
       "      <th>ESC</th>\n",
       "      <th>ESC2010</th>\n",
       "      <th>OCUP</th>\n",
       "      <th>CODMUNRES</th>\n",
       "      <th>CIRCOBITO</th>\n",
       "    </tr>\n",
       "  </thead>\n",
       "  <tbody>\n",
       "    <tr>\n",
       "      <th>0</th>\n",
       "      <td>25012019</td>\n",
       "      <td>10121978.0</td>\n",
       "      <td>440</td>\n",
       "      <td>1</td>\n",
       "      <td>1.0</td>\n",
       "      <td>1.0</td>\n",
       "      <td>3.0</td>\n",
       "      <td>1.0</td>\n",
       "      <td>512105.0</td>\n",
       "      <td>421160</td>\n",
       "      <td>2.0</td>\n",
       "    </tr>\n",
       "    <tr>\n",
       "      <th>1</th>\n",
       "      <td>25012019</td>\n",
       "      <td>11121993.0</td>\n",
       "      <td>425</td>\n",
       "      <td>2</td>\n",
       "      <td>1.0</td>\n",
       "      <td>5.0</td>\n",
       "      <td>4.0</td>\n",
       "      <td>3.0</td>\n",
       "      <td>414210.0</td>\n",
       "      <td>420700</td>\n",
       "      <td>1.0</td>\n",
       "    </tr>\n",
       "    <tr>\n",
       "      <th>2</th>\n",
       "      <td>25012019</td>\n",
       "      <td>7111942.0</td>\n",
       "      <td>476</td>\n",
       "      <td>1</td>\n",
       "      <td>1.0</td>\n",
       "      <td>2.0</td>\n",
       "      <td>3.0</td>\n",
       "      <td>1.0</td>\n",
       "      <td>631105.0</td>\n",
       "      <td>422000</td>\n",
       "      <td>1.0</td>\n",
       "    </tr>\n",
       "    <tr>\n",
       "      <th>3</th>\n",
       "      <td>27012019</td>\n",
       "      <td>3041995.0</td>\n",
       "      <td>423</td>\n",
       "      <td>1</td>\n",
       "      <td>1.0</td>\n",
       "      <td>1.0</td>\n",
       "      <td>3.0</td>\n",
       "      <td>2.0</td>\n",
       "      <td>999992.0</td>\n",
       "      <td>420700</td>\n",
       "      <td>1.0</td>\n",
       "    </tr>\n",
       "    <tr>\n",
       "      <th>4</th>\n",
       "      <td>28012019</td>\n",
       "      <td>12111955.0</td>\n",
       "      <td>463</td>\n",
       "      <td>1</td>\n",
       "      <td>1.0</td>\n",
       "      <td>2.0</td>\n",
       "      <td>3.0</td>\n",
       "      <td>1.0</td>\n",
       "      <td>711130.0</td>\n",
       "      <td>421900</td>\n",
       "      <td>1.0</td>\n",
       "    </tr>\n",
       "    <tr>\n",
       "      <th>5</th>\n",
       "      <td>11022019</td>\n",
       "      <td>30121971.0</td>\n",
       "      <td>447</td>\n",
       "      <td>1</td>\n",
       "      <td>4.0</td>\n",
       "      <td>2.0</td>\n",
       "      <td>4.0</td>\n",
       "      <td>2.0</td>\n",
       "      <td>783105.0</td>\n",
       "      <td>500320</td>\n",
       "      <td>1.0</td>\n",
       "    </tr>\n",
       "    <tr>\n",
       "      <th>6</th>\n",
       "      <td>24012019</td>\n",
       "      <td>5021942.0</td>\n",
       "      <td>476</td>\n",
       "      <td>2</td>\n",
       "      <td>4.0</td>\n",
       "      <td>3.0</td>\n",
       "      <td>1.0</td>\n",
       "      <td>0.0</td>\n",
       "      <td>NaN</td>\n",
       "      <td>231400</td>\n",
       "      <td>1.0</td>\n",
       "    </tr>\n",
       "    <tr>\n",
       "      <th>7</th>\n",
       "      <td>21012019</td>\n",
       "      <td>21061951.0</td>\n",
       "      <td>467</td>\n",
       "      <td>1</td>\n",
       "      <td>4.0</td>\n",
       "      <td>2.0</td>\n",
       "      <td>3.0</td>\n",
       "      <td>2.0</td>\n",
       "      <td>612005.0</td>\n",
       "      <td>230840</td>\n",
       "      <td>1.0</td>\n",
       "    </tr>\n",
       "    <tr>\n",
       "      <th>8</th>\n",
       "      <td>8022019</td>\n",
       "      <td>8101959.0</td>\n",
       "      <td>459</td>\n",
       "      <td>1</td>\n",
       "      <td>3.0</td>\n",
       "      <td>9.0</td>\n",
       "      <td>9.0</td>\n",
       "      <td>9.0</td>\n",
       "      <td>998999.0</td>\n",
       "      <td>352050</td>\n",
       "      <td>9.0</td>\n",
       "    </tr>\n",
       "    <tr>\n",
       "      <th>9</th>\n",
       "      <td>11022019</td>\n",
       "      <td>16061939.0</td>\n",
       "      <td>479</td>\n",
       "      <td>2</td>\n",
       "      <td>1.0</td>\n",
       "      <td>9.0</td>\n",
       "      <td>9.0</td>\n",
       "      <td>9.0</td>\n",
       "      <td>999993.0</td>\n",
       "      <td>352050</td>\n",
       "      <td>2.0</td>\n",
       "    </tr>\n",
       "  </tbody>\n",
       "</table>\n",
       "</div>"
      ],
      "text/plain": [
       "    DTOBITO      DTNASC  IDADE  SEXO  RACACOR  ESTCIV  ESC  ESC2010      OCUP  \\\n",
       "0  25012019  10121978.0    440     1      1.0     1.0  3.0      1.0  512105.0   \n",
       "1  25012019  11121993.0    425     2      1.0     5.0  4.0      3.0  414210.0   \n",
       "2  25012019   7111942.0    476     1      1.0     2.0  3.0      1.0  631105.0   \n",
       "3  27012019   3041995.0    423     1      1.0     1.0  3.0      2.0  999992.0   \n",
       "4  28012019  12111955.0    463     1      1.0     2.0  3.0      1.0  711130.0   \n",
       "5  11022019  30121971.0    447     1      4.0     2.0  4.0      2.0  783105.0   \n",
       "6  24012019   5021942.0    476     2      4.0     3.0  1.0      0.0       NaN   \n",
       "7  21012019  21061951.0    467     1      4.0     2.0  3.0      2.0  612005.0   \n",
       "8   8022019   8101959.0    459     1      3.0     9.0  9.0      9.0  998999.0   \n",
       "9  11022019  16061939.0    479     2      1.0     9.0  9.0      9.0  999993.0   \n",
       "\n",
       "   CODMUNRES  CIRCOBITO  \n",
       "0     421160        2.0  \n",
       "1     420700        1.0  \n",
       "2     422000        1.0  \n",
       "3     420700        1.0  \n",
       "4     421900        1.0  \n",
       "5     500320        1.0  \n",
       "6     231400        1.0  \n",
       "7     230840        1.0  \n",
       "8     352050        9.0  \n",
       "9     352050        2.0  "
      ]
     },
     "execution_count": 47,
     "metadata": {},
     "output_type": "execute_result"
    }
   ],
   "source": [
    "df_geral = pd.read_csv(file,encoding='latin-1',usecols=colunas_selecionadas) \n",
    "df_geral.head(10)"
   ]
  },
  {
   "cell_type": "markdown",
   "id": "f3f131d9",
   "metadata": {
    "ExecuteTime": {
     "end_time": "2024-06-06T18:50:40.929507Z",
     "start_time": "2024-06-06T18:50:40.912517Z"
    }
   },
   "source": [
    "Selecionando apenas casos de suicídios, sabendo que o codigo para os casos é 2. "
   ]
  },
  {
   "cell_type": "code",
   "execution_count": 6,
   "id": "c7262150",
   "metadata": {
    "ExecuteTime": {
     "end_time": "2024-06-12T00:57:39.937875Z",
     "start_time": "2024-06-12T00:57:39.907868Z"
    }
   },
   "outputs": [
    {
     "data": {
      "text/html": [
       "<div>\n",
       "<style scoped>\n",
       "    .dataframe tbody tr th:only-of-type {\n",
       "        vertical-align: middle;\n",
       "    }\n",
       "\n",
       "    .dataframe tbody tr th {\n",
       "        vertical-align: top;\n",
       "    }\n",
       "\n",
       "    .dataframe thead th {\n",
       "        text-align: right;\n",
       "    }\n",
       "</style>\n",
       "<table border=\"1\" class=\"dataframe\">\n",
       "  <thead>\n",
       "    <tr style=\"text-align: right;\">\n",
       "      <th></th>\n",
       "      <th>DTOBITO</th>\n",
       "      <th>DTNASC</th>\n",
       "      <th>IDADE</th>\n",
       "      <th>SEXO</th>\n",
       "      <th>RACACOR</th>\n",
       "      <th>ESTCIV</th>\n",
       "      <th>ESC</th>\n",
       "      <th>ESC2010</th>\n",
       "      <th>OCUP</th>\n",
       "      <th>CODMUNRES</th>\n",
       "      <th>CIRCOBITO</th>\n",
       "    </tr>\n",
       "  </thead>\n",
       "  <tbody>\n",
       "    <tr>\n",
       "      <th>0</th>\n",
       "      <td>25012019</td>\n",
       "      <td>10121978.0</td>\n",
       "      <td>440</td>\n",
       "      <td>1</td>\n",
       "      <td>1.0</td>\n",
       "      <td>1.0</td>\n",
       "      <td>3.0</td>\n",
       "      <td>1.0</td>\n",
       "      <td>512105.0</td>\n",
       "      <td>421160</td>\n",
       "      <td>2.0</td>\n",
       "    </tr>\n",
       "    <tr>\n",
       "      <th>9</th>\n",
       "      <td>11022019</td>\n",
       "      <td>16061939.0</td>\n",
       "      <td>479</td>\n",
       "      <td>2</td>\n",
       "      <td>1.0</td>\n",
       "      <td>9.0</td>\n",
       "      <td>9.0</td>\n",
       "      <td>9.0</td>\n",
       "      <td>999993.0</td>\n",
       "      <td>352050</td>\n",
       "      <td>2.0</td>\n",
       "    </tr>\n",
       "    <tr>\n",
       "      <th>16</th>\n",
       "      <td>25012019</td>\n",
       "      <td>23101995.0</td>\n",
       "      <td>423</td>\n",
       "      <td>2</td>\n",
       "      <td>4.0</td>\n",
       "      <td>1.0</td>\n",
       "      <td>2.0</td>\n",
       "      <td>1.0</td>\n",
       "      <td>NaN</td>\n",
       "      <td>150618</td>\n",
       "      <td>2.0</td>\n",
       "    </tr>\n",
       "    <tr>\n",
       "      <th>48</th>\n",
       "      <td>21012019</td>\n",
       "      <td>7051980.0</td>\n",
       "      <td>438</td>\n",
       "      <td>1</td>\n",
       "      <td>2.0</td>\n",
       "      <td>1.0</td>\n",
       "      <td>1.0</td>\n",
       "      <td>0.0</td>\n",
       "      <td>517420.0</td>\n",
       "      <td>311340</td>\n",
       "      <td>2.0</td>\n",
       "    </tr>\n",
       "    <tr>\n",
       "      <th>56</th>\n",
       "      <td>1012019</td>\n",
       "      <td>27011979.0</td>\n",
       "      <td>439</td>\n",
       "      <td>1</td>\n",
       "      <td>1.0</td>\n",
       "      <td>5.0</td>\n",
       "      <td>4.0</td>\n",
       "      <td>3.0</td>\n",
       "      <td>411005.0</td>\n",
       "      <td>355030</td>\n",
       "      <td>2.0</td>\n",
       "    </tr>\n",
       "  </tbody>\n",
       "</table>\n",
       "</div>"
      ],
      "text/plain": [
       "     DTOBITO      DTNASC  IDADE  SEXO  RACACOR  ESTCIV  ESC  ESC2010  \\\n",
       "0   25012019  10121978.0    440     1      1.0     1.0  3.0      1.0   \n",
       "9   11022019  16061939.0    479     2      1.0     9.0  9.0      9.0   \n",
       "16  25012019  23101995.0    423     2      4.0     1.0  2.0      1.0   \n",
       "48  21012019   7051980.0    438     1      2.0     1.0  1.0      0.0   \n",
       "56   1012019  27011979.0    439     1      1.0     5.0  4.0      3.0   \n",
       "\n",
       "        OCUP  CODMUNRES  CIRCOBITO  \n",
       "0   512105.0     421160        2.0  \n",
       "9   999993.0     352050        2.0  \n",
       "16       NaN     150618        2.0  \n",
       "48  517420.0     311340        2.0  \n",
       "56  411005.0     355030        2.0  "
      ]
     },
     "metadata": {},
     "output_type": "display_data"
    }
   ],
   "source": [
    "df_s = df_geral.loc[(df_geral['CIRCOBITO'])==2]\n",
    "display(df_s.head())"
   ]
  },
  {
   "cell_type": "code",
   "execution_count": 7,
   "id": "5ee53f10",
   "metadata": {
    "ExecuteTime": {
     "end_time": "2024-06-12T00:57:39.969882Z",
     "start_time": "2024-06-12T00:57:39.939876Z"
    }
   },
   "outputs": [
    {
     "data": {
      "text/html": [
       "<div>\n",
       "<style scoped>\n",
       "    .dataframe tbody tr th:only-of-type {\n",
       "        vertical-align: middle;\n",
       "    }\n",
       "\n",
       "    .dataframe tbody tr th {\n",
       "        vertical-align: top;\n",
       "    }\n",
       "\n",
       "    .dataframe thead th {\n",
       "        text-align: right;\n",
       "    }\n",
       "</style>\n",
       "<table border=\"1\" class=\"dataframe\">\n",
       "  <thead>\n",
       "    <tr style=\"text-align: right;\">\n",
       "      <th></th>\n",
       "      <th>DTOBITO</th>\n",
       "      <th>DTNASC</th>\n",
       "      <th>IDADE</th>\n",
       "      <th>SEXO</th>\n",
       "      <th>RACACOR</th>\n",
       "      <th>ESTCIV</th>\n",
       "      <th>ESC</th>\n",
       "      <th>ESC2010</th>\n",
       "      <th>OCUP</th>\n",
       "      <th>CODMUNRES</th>\n",
       "      <th>CIRCOBITO</th>\n",
       "    </tr>\n",
       "  </thead>\n",
       "  <tbody>\n",
       "    <tr>\n",
       "      <th>1002</th>\n",
       "      <td>21012019</td>\n",
       "      <td>NaN</td>\n",
       "      <td>999</td>\n",
       "      <td>1</td>\n",
       "      <td>1.0</td>\n",
       "      <td>NaN</td>\n",
       "      <td>NaN</td>\n",
       "      <td>NaN</td>\n",
       "      <td>NaN</td>\n",
       "      <td>354220</td>\n",
       "      <td>2.0</td>\n",
       "    </tr>\n",
       "    <tr>\n",
       "      <th>2181</th>\n",
       "      <td>24032019</td>\n",
       "      <td>NaN</td>\n",
       "      <td>999</td>\n",
       "      <td>1</td>\n",
       "      <td>4.0</td>\n",
       "      <td>9.0</td>\n",
       "      <td>9.0</td>\n",
       "      <td>9.0</td>\n",
       "      <td>NaN</td>\n",
       "      <td>330000</td>\n",
       "      <td>2.0</td>\n",
       "    </tr>\n",
       "    <tr>\n",
       "      <th>35746</th>\n",
       "      <td>19042019</td>\n",
       "      <td>NaN</td>\n",
       "      <td>999</td>\n",
       "      <td>1</td>\n",
       "      <td>4.0</td>\n",
       "      <td>NaN</td>\n",
       "      <td>NaN</td>\n",
       "      <td>NaN</td>\n",
       "      <td>NaN</td>\n",
       "      <td>150442</td>\n",
       "      <td>2.0</td>\n",
       "    </tr>\n",
       "    <tr>\n",
       "      <th>49269</th>\n",
       "      <td>26042019</td>\n",
       "      <td>NaN</td>\n",
       "      <td>999</td>\n",
       "      <td>1</td>\n",
       "      <td>1.0</td>\n",
       "      <td>NaN</td>\n",
       "      <td>NaN</td>\n",
       "      <td>NaN</td>\n",
       "      <td>NaN</td>\n",
       "      <td>350000</td>\n",
       "      <td>2.0</td>\n",
       "    </tr>\n",
       "    <tr>\n",
       "      <th>53130</th>\n",
       "      <td>3052019</td>\n",
       "      <td>NaN</td>\n",
       "      <td>999</td>\n",
       "      <td>1</td>\n",
       "      <td>4.0</td>\n",
       "      <td>NaN</td>\n",
       "      <td>NaN</td>\n",
       "      <td>NaN</td>\n",
       "      <td>NaN</td>\n",
       "      <td>520170</td>\n",
       "      <td>2.0</td>\n",
       "    </tr>\n",
       "    <tr>\n",
       "      <th>62484</th>\n",
       "      <td>12062019</td>\n",
       "      <td>NaN</td>\n",
       "      <td>999</td>\n",
       "      <td>1</td>\n",
       "      <td>1.0</td>\n",
       "      <td>9.0</td>\n",
       "      <td>9.0</td>\n",
       "      <td>9.0</td>\n",
       "      <td>NaN</td>\n",
       "      <td>355030</td>\n",
       "      <td>2.0</td>\n",
       "    </tr>\n",
       "    <tr>\n",
       "      <th>80083</th>\n",
       "      <td>19032019</td>\n",
       "      <td>NaN</td>\n",
       "      <td>999</td>\n",
       "      <td>1</td>\n",
       "      <td>1.0</td>\n",
       "      <td>9.0</td>\n",
       "      <td>NaN</td>\n",
       "      <td>NaN</td>\n",
       "      <td>NaN</td>\n",
       "      <td>353070</td>\n",
       "      <td>2.0</td>\n",
       "    </tr>\n",
       "    <tr>\n",
       "      <th>89941</th>\n",
       "      <td>13122019</td>\n",
       "      <td>NaN</td>\n",
       "      <td>999</td>\n",
       "      <td>1</td>\n",
       "      <td>1.0</td>\n",
       "      <td>NaN</td>\n",
       "      <td>NaN</td>\n",
       "      <td>NaN</td>\n",
       "      <td>998999.0</td>\n",
       "      <td>350000</td>\n",
       "      <td>2.0</td>\n",
       "    </tr>\n",
       "    <tr>\n",
       "      <th>109713</th>\n",
       "      <td>27122019</td>\n",
       "      <td>NaN</td>\n",
       "      <td>999</td>\n",
       "      <td>1</td>\n",
       "      <td>4.0</td>\n",
       "      <td>9.0</td>\n",
       "      <td>9.0</td>\n",
       "      <td>9.0</td>\n",
       "      <td>NaN</td>\n",
       "      <td>500830</td>\n",
       "      <td>2.0</td>\n",
       "    </tr>\n",
       "    <tr>\n",
       "      <th>110616</th>\n",
       "      <td>4042019</td>\n",
       "      <td>NaN</td>\n",
       "      <td>999</td>\n",
       "      <td>1</td>\n",
       "      <td>1.0</td>\n",
       "      <td>9.0</td>\n",
       "      <td>9.0</td>\n",
       "      <td>9.0</td>\n",
       "      <td>998999.0</td>\n",
       "      <td>410000</td>\n",
       "      <td>2.0</td>\n",
       "    </tr>\n",
       "    <tr>\n",
       "      <th>126121</th>\n",
       "      <td>7032019</td>\n",
       "      <td>NaN</td>\n",
       "      <td>999</td>\n",
       "      <td>1</td>\n",
       "      <td>2.0</td>\n",
       "      <td>9.0</td>\n",
       "      <td>9.0</td>\n",
       "      <td>9.0</td>\n",
       "      <td>NaN</td>\n",
       "      <td>317020</td>\n",
       "      <td>2.0</td>\n",
       "    </tr>\n",
       "  </tbody>\n",
       "</table>\n",
       "</div>"
      ],
      "text/plain": [
       "         DTOBITO  DTNASC  IDADE  SEXO  RACACOR  ESTCIV  ESC  ESC2010  \\\n",
       "1002    21012019     NaN    999     1      1.0     NaN  NaN      NaN   \n",
       "2181    24032019     NaN    999     1      4.0     9.0  9.0      9.0   \n",
       "35746   19042019     NaN    999     1      4.0     NaN  NaN      NaN   \n",
       "49269   26042019     NaN    999     1      1.0     NaN  NaN      NaN   \n",
       "53130    3052019     NaN    999     1      4.0     NaN  NaN      NaN   \n",
       "62484   12062019     NaN    999     1      1.0     9.0  9.0      9.0   \n",
       "80083   19032019     NaN    999     1      1.0     9.0  NaN      NaN   \n",
       "89941   13122019     NaN    999     1      1.0     NaN  NaN      NaN   \n",
       "109713  27122019     NaN    999     1      4.0     9.0  9.0      9.0   \n",
       "110616   4042019     NaN    999     1      1.0     9.0  9.0      9.0   \n",
       "126121   7032019     NaN    999     1      2.0     9.0  9.0      9.0   \n",
       "\n",
       "            OCUP  CODMUNRES  CIRCOBITO  \n",
       "1002         NaN     354220        2.0  \n",
       "2181         NaN     330000        2.0  \n",
       "35746        NaN     150442        2.0  \n",
       "49269        NaN     350000        2.0  \n",
       "53130        NaN     520170        2.0  \n",
       "62484        NaN     355030        2.0  \n",
       "80083        NaN     353070        2.0  \n",
       "89941   998999.0     350000        2.0  \n",
       "109713       NaN     500830        2.0  \n",
       "110616  998999.0     410000        2.0  \n",
       "126121       NaN     317020        2.0  "
      ]
     },
     "metadata": {},
     "output_type": "display_data"
    }
   ],
   "source": [
    "idade_indefinida = df_s.loc[(df_s['IDADE'])==999] #Pesquisa por idade indefinida\n",
    "display(idade_indefinida)"
   ]
  },
  {
   "cell_type": "code",
   "execution_count": 8,
   "id": "3ea30f7e",
   "metadata": {
    "ExecuteTime": {
     "end_time": "2024-06-12T00:57:39.985886Z",
     "start_time": "2024-06-12T00:57:39.973884Z"
    }
   },
   "outputs": [
    {
     "name": "stderr",
     "output_type": "stream",
     "text": [
      "C:\\Users\\Jnpx_\\AppData\\Local\\Temp\\ipykernel_4944\\2409637535.py:1: SettingWithCopyWarning: \n",
      "A value is trying to be set on a copy of a slice from a DataFrame\n",
      "\n",
      "See the caveats in the documentation: https://pandas.pydata.org/pandas-docs/stable/user_guide/indexing.html#returning-a-view-versus-a-copy\n",
      "  df_s.drop(index=idade_indefinida.index,inplace=True) #Drop idade indefinida\n"
     ]
    }
   ],
   "source": [
    "df_s.drop(index=idade_indefinida.index,inplace=True) #Drop idade indefinida"
   ]
  },
  {
   "cell_type": "code",
   "execution_count": 9,
   "id": "ee29e073",
   "metadata": {
    "ExecuteTime": {
     "end_time": "2024-06-12T00:57:40.001889Z",
     "start_time": "2024-06-12T00:57:39.987887Z"
    }
   },
   "outputs": [],
   "source": [
    "linha_auxiliar = df_s.loc[0] "
   ]
  },
  {
   "cell_type": "code",
   "execution_count": 10,
   "id": "114049b0",
   "metadata": {
    "ExecuteTime": {
     "end_time": "2024-06-12T00:57:40.017893Z",
     "start_time": "2024-06-12T00:57:40.003890Z"
    }
   },
   "outputs": [],
   "source": [
    "pd.options.mode.copy_on_write = True\n",
    "def ajustar_idade(linha):\n",
    "    if(linha['IDADE']) > 400:\n",
    "        linha['IDADE'] = linha['IDADE'] - 400\n",
    "    return linha"
   ]
  },
  {
   "cell_type": "code",
   "execution_count": 11,
   "id": "d8ea571c",
   "metadata": {
    "ExecuteTime": {
     "end_time": "2024-06-12T00:57:41.212162Z",
     "start_time": "2024-06-12T00:57:40.018894Z"
    }
   },
   "outputs": [],
   "source": [
    "df_s = df_s.apply(lambda x:ajustar_idade(x),axis=1)"
   ]
  },
  {
   "cell_type": "code",
   "execution_count": 12,
   "id": "5e9ba591",
   "metadata": {
    "ExecuteTime": {
     "end_time": "2024-06-12T00:57:41.227166Z",
     "start_time": "2024-06-12T00:57:41.214163Z"
    }
   },
   "outputs": [
    {
     "data": {
      "text/html": [
       "<div>\n",
       "<style scoped>\n",
       "    .dataframe tbody tr th:only-of-type {\n",
       "        vertical-align: middle;\n",
       "    }\n",
       "\n",
       "    .dataframe tbody tr th {\n",
       "        vertical-align: top;\n",
       "    }\n",
       "\n",
       "    .dataframe thead th {\n",
       "        text-align: right;\n",
       "    }\n",
       "</style>\n",
       "<table border=\"1\" class=\"dataframe\">\n",
       "  <thead>\n",
       "    <tr style=\"text-align: right;\">\n",
       "      <th></th>\n",
       "      <th>DTOBITO</th>\n",
       "      <th>DTNASC</th>\n",
       "      <th>IDADE</th>\n",
       "      <th>SEXO</th>\n",
       "      <th>RACACOR</th>\n",
       "      <th>ESTCIV</th>\n",
       "      <th>ESC</th>\n",
       "      <th>ESC2010</th>\n",
       "      <th>OCUP</th>\n",
       "      <th>CODMUNRES</th>\n",
       "      <th>CIRCOBITO</th>\n",
       "    </tr>\n",
       "  </thead>\n",
       "  <tbody>\n",
       "    <tr>\n",
       "      <th>27174</th>\n",
       "      <td>19032019.0</td>\n",
       "      <td>23022014.0</td>\n",
       "      <td>5.0</td>\n",
       "      <td>2.0</td>\n",
       "      <td>4.0</td>\n",
       "      <td>NaN</td>\n",
       "      <td>NaN</td>\n",
       "      <td>NaN</td>\n",
       "      <td>NaN</td>\n",
       "      <td>160030.0</td>\n",
       "      <td>2.0</td>\n",
       "    </tr>\n",
       "  </tbody>\n",
       "</table>\n",
       "</div>"
      ],
      "text/plain": [
       "          DTOBITO      DTNASC  IDADE  SEXO  RACACOR  ESTCIV  ESC  ESC2010  \\\n",
       "27174  19032019.0  23022014.0    5.0   2.0      4.0     NaN  NaN      NaN   \n",
       "\n",
       "       OCUP  CODMUNRES  CIRCOBITO  \n",
       "27174   NaN   160030.0        2.0  "
      ]
     },
     "execution_count": 12,
     "metadata": {},
     "output_type": "execute_result"
    }
   ],
   "source": [
    "df_s[df_s['IDADE']<=6]"
   ]
  },
  {
   "cell_type": "code",
   "execution_count": 13,
   "id": "415c5339",
   "metadata": {
    "ExecuteTime": {
     "end_time": "2024-06-12T00:57:41.242169Z",
     "start_time": "2024-06-12T00:57:41.229168Z"
    }
   },
   "outputs": [],
   "source": [
    "df_s.drop(df_s[df_s['IDADE']<=6].index,inplace=True)"
   ]
  },
  {
   "cell_type": "code",
   "execution_count": 14,
   "id": "17064344",
   "metadata": {
    "ExecuteTime": {
     "end_time": "2024-06-12T00:57:41.258172Z",
     "start_time": "2024-06-12T00:57:41.244170Z"
    }
   },
   "outputs": [],
   "source": [
    "df_s.drop(columns='DTNASC',inplace=True)\n",
    "df_s.drop(columns='CIRCOBITO',inplace=True)"
   ]
  },
  {
   "cell_type": "code",
   "execution_count": 15,
   "id": "da336a46",
   "metadata": {
    "ExecuteTime": {
     "end_time": "2024-06-12T00:57:41.274176Z",
     "start_time": "2024-06-12T00:57:41.260174Z"
    }
   },
   "outputs": [],
   "source": [
    "df_s['OCUP'] = df_s['OCUP'].fillna(998999)\n",
    "df_s.fillna(0,inplace=True)"
   ]
  },
  {
   "cell_type": "code",
   "execution_count": 16,
   "id": "cfb9c390",
   "metadata": {
    "ExecuteTime": {
     "end_time": "2024-06-12T00:57:41.290180Z",
     "start_time": "2024-06-12T00:57:41.276178Z"
    }
   },
   "outputs": [],
   "source": [
    "df_s = df_s[:].astype('int64')"
   ]
  },
  {
   "cell_type": "code",
   "execution_count": 17,
   "id": "4fe2272e",
   "metadata": {
    "ExecuteTime": {
     "end_time": "2024-06-12T00:57:41.306183Z",
     "start_time": "2024-06-12T00:57:41.292180Z"
    }
   },
   "outputs": [],
   "source": [
    "# plt.hist(df_s['IDADE'],bins=89)\n",
    "# print(np.histogram(df_s['IDADE'],bins=89))\n",
    "# plt.show()"
   ]
  },
  {
   "cell_type": "code",
   "execution_count": 18,
   "id": "849b64ed",
   "metadata": {
    "ExecuteTime": {
     "end_time": "2024-06-12T00:57:41.322187Z",
     "start_time": "2024-06-12T00:57:41.308183Z"
    }
   },
   "outputs": [
    {
     "name": "stdout",
     "output_type": "stream",
     "text": [
      "DTOBITO      25012019\n",
      "IDADE              40\n",
      "SEXO                1\n",
      "RACACOR             1\n",
      "ESTCIV              1\n",
      "ESC                 3\n",
      "ESC2010             1\n",
      "OCUP           512105\n",
      "CODMUNRES      421160\n",
      "Name: 0, dtype: int64\n"
     ]
    }
   ],
   "source": [
    "linha_auxiliar = df_s.loc[0]\n",
    "print(linha_auxiliar)"
   ]
  },
  {
   "cell_type": "code",
   "execution_count": 19,
   "id": "2c2f13ad",
   "metadata": {
    "ExecuteTime": {
     "end_time": "2024-06-12T00:57:41.338190Z",
     "start_time": "2024-06-12T00:57:41.324187Z"
    }
   },
   "outputs": [
    {
     "data": {
      "text/plain": [
       "330455    212\n",
       "355030    205\n",
       "530010    196\n",
       "310620    161\n",
       "431490    128\n",
       "         ... \n",
       "221030      1\n",
       "313090      1\n",
       "260005      1\n",
       "354300      1\n",
       "421380      1\n",
       "Name: CODMUNRES, Length: 3275, dtype: int64"
      ]
     },
     "execution_count": 19,
     "metadata": {},
     "output_type": "execute_result"
    }
   ],
   "source": [
    "df_s['CODMUNRES'].value_counts()"
   ]
  },
  {
   "cell_type": "code",
   "execution_count": 20,
   "id": "e9662a7a",
   "metadata": {
    "ExecuteTime": {
     "end_time": "2024-06-12T00:57:41.369197Z",
     "start_time": "2024-06-12T00:57:41.339190Z"
    }
   },
   "outputs": [],
   "source": [
    "df_municipios = pd.read_csv('Dados_SUS/CODMUN/RELATORIO_DTB_BRASIL_MUNICIPIO.csv',\n",
    "                usecols=['UF','Nome_UF','Código Município Completo','Nome_Município'],\n",
    "                delimiter=',')\n",
    "df_municipios.rename({'Código Município Completo':'CODMUNRES'},axis='columns',inplace=True)"
   ]
  },
  {
   "cell_type": "code",
   "execution_count": 21,
   "id": "1a7762f1",
   "metadata": {
    "ExecuteTime": {
     "end_time": "2024-06-12T00:57:41.385201Z",
     "start_time": "2024-06-12T00:57:41.371198Z"
    }
   },
   "outputs": [],
   "source": [
    "linha_auxiliar_municipios = df_municipios.loc[0]"
   ]
  },
  {
   "cell_type": "code",
   "execution_count": 22,
   "id": "92955750",
   "metadata": {
    "ExecuteTime": {
     "end_time": "2024-06-12T00:57:41.401204Z",
     "start_time": "2024-06-12T00:57:41.386201Z"
    }
   },
   "outputs": [],
   "source": [
    "def remover_ultimo_digito(linha):\n",
    "    linha_str = str(linha['CODMUNRES'])\n",
    "    if len(linha_str) == 7:\n",
    "        linha['CODMUNRES'] = int(linha_str[:6])\n",
    "    return linha"
   ]
  },
  {
   "cell_type": "code",
   "execution_count": 23,
   "id": "34a70329",
   "metadata": {
    "ExecuteTime": {
     "end_time": "2024-06-12T00:57:41.879312Z",
     "start_time": "2024-06-12T00:57:41.403205Z"
    }
   },
   "outputs": [],
   "source": [
    "df_municipios = df_municipios.apply(lambda x:remover_ultimo_digito(x),axis=1)"
   ]
  },
  {
   "cell_type": "code",
   "execution_count": 24,
   "id": "9d55cad3",
   "metadata": {
    "ExecuteTime": {
     "end_time": "2024-06-12T00:57:41.911319Z",
     "start_time": "2024-06-12T00:57:41.881314Z"
    }
   },
   "outputs": [],
   "source": [
    "df_merged = pd.merge(df_s,df_municipios,how='left',on='CODMUNRES')"
   ]
  },
  {
   "cell_type": "code",
   "execution_count": 25,
   "id": "277c2f1f",
   "metadata": {
    "ExecuteTime": {
     "end_time": "2024-06-12T00:57:41.927323Z",
     "start_time": "2024-06-12T00:57:41.913322Z"
    }
   },
   "outputs": [],
   "source": [
    "df_merged.dropna(inplace=True)"
   ]
  },
  {
   "cell_type": "code",
   "execution_count": 26,
   "id": "ae27e7a8",
   "metadata": {
    "ExecuteTime": {
     "end_time": "2024-06-12T00:57:41.943326Z",
     "start_time": "2024-06-12T00:57:41.933325Z"
    }
   },
   "outputs": [],
   "source": [
    "coluna_municipios = df_merged['Nome_Município'] "
   ]
  },
  {
   "cell_type": "code",
   "execution_count": 27,
   "id": "56073f92",
   "metadata": {
    "ExecuteTime": {
     "end_time": "2024-06-12T00:57:41.959330Z",
     "start_time": "2024-06-12T00:57:41.945328Z"
    }
   },
   "outputs": [],
   "source": [
    "df_merged.drop(columns='Nome_Município',inplace=True)"
   ]
  },
  {
   "cell_type": "code",
   "execution_count": 28,
   "id": "18d331b4",
   "metadata": {
    "ExecuteTime": {
     "end_time": "2024-06-12T00:57:41.975334Z",
     "start_time": "2024-06-12T00:57:41.961332Z"
    }
   },
   "outputs": [],
   "source": [
    "df_merged['UF'] = df_merged['UF'].astype('int64')"
   ]
  },
  {
   "cell_type": "code",
   "execution_count": 29,
   "id": "33341640",
   "metadata": {
    "ExecuteTime": {
     "end_time": "2024-06-12T00:57:41.991337Z",
     "start_time": "2024-06-12T00:57:41.977336Z"
    }
   },
   "outputs": [
    {
     "data": {
      "text/html": [
       "<div>\n",
       "<style scoped>\n",
       "    .dataframe tbody tr th:only-of-type {\n",
       "        vertical-align: middle;\n",
       "    }\n",
       "\n",
       "    .dataframe tbody tr th {\n",
       "        vertical-align: top;\n",
       "    }\n",
       "\n",
       "    .dataframe thead th {\n",
       "        text-align: right;\n",
       "    }\n",
       "</style>\n",
       "<table border=\"1\" class=\"dataframe\">\n",
       "  <thead>\n",
       "    <tr style=\"text-align: right;\">\n",
       "      <th></th>\n",
       "      <th>DTOBITO</th>\n",
       "      <th>IDADE</th>\n",
       "      <th>SEXO</th>\n",
       "      <th>RACACOR</th>\n",
       "      <th>ESTCIV</th>\n",
       "      <th>ESC</th>\n",
       "      <th>ESC2010</th>\n",
       "      <th>OCUP</th>\n",
       "      <th>CODMUNRES</th>\n",
       "      <th>UF</th>\n",
       "      <th>Nome_UF</th>\n",
       "    </tr>\n",
       "  </thead>\n",
       "  <tbody>\n",
       "    <tr>\n",
       "      <th>0</th>\n",
       "      <td>25012019</td>\n",
       "      <td>40</td>\n",
       "      <td>1</td>\n",
       "      <td>1</td>\n",
       "      <td>1</td>\n",
       "      <td>3</td>\n",
       "      <td>1</td>\n",
       "      <td>512105</td>\n",
       "      <td>421160</td>\n",
       "      <td>42</td>\n",
       "      <td>Santa Catarina</td>\n",
       "    </tr>\n",
       "    <tr>\n",
       "      <th>1</th>\n",
       "      <td>11022019</td>\n",
       "      <td>79</td>\n",
       "      <td>2</td>\n",
       "      <td>1</td>\n",
       "      <td>9</td>\n",
       "      <td>9</td>\n",
       "      <td>9</td>\n",
       "      <td>999993</td>\n",
       "      <td>352050</td>\n",
       "      <td>35</td>\n",
       "      <td>São Paulo</td>\n",
       "    </tr>\n",
       "    <tr>\n",
       "      <th>2</th>\n",
       "      <td>25012019</td>\n",
       "      <td>23</td>\n",
       "      <td>2</td>\n",
       "      <td>4</td>\n",
       "      <td>1</td>\n",
       "      <td>2</td>\n",
       "      <td>1</td>\n",
       "      <td>998999</td>\n",
       "      <td>150618</td>\n",
       "      <td>15</td>\n",
       "      <td>Pará</td>\n",
       "    </tr>\n",
       "    <tr>\n",
       "      <th>3</th>\n",
       "      <td>21012019</td>\n",
       "      <td>38</td>\n",
       "      <td>1</td>\n",
       "      <td>2</td>\n",
       "      <td>1</td>\n",
       "      <td>1</td>\n",
       "      <td>0</td>\n",
       "      <td>517420</td>\n",
       "      <td>311340</td>\n",
       "      <td>31</td>\n",
       "      <td>Minas Gerais</td>\n",
       "    </tr>\n",
       "    <tr>\n",
       "      <th>4</th>\n",
       "      <td>1012019</td>\n",
       "      <td>39</td>\n",
       "      <td>1</td>\n",
       "      <td>1</td>\n",
       "      <td>5</td>\n",
       "      <td>4</td>\n",
       "      <td>3</td>\n",
       "      <td>411005</td>\n",
       "      <td>355030</td>\n",
       "      <td>35</td>\n",
       "      <td>São Paulo</td>\n",
       "    </tr>\n",
       "    <tr>\n",
       "      <th>...</th>\n",
       "      <td>...</td>\n",
       "      <td>...</td>\n",
       "      <td>...</td>\n",
       "      <td>...</td>\n",
       "      <td>...</td>\n",
       "      <td>...</td>\n",
       "      <td>...</td>\n",
       "      <td>...</td>\n",
       "      <td>...</td>\n",
       "      <td>...</td>\n",
       "      <td>...</td>\n",
       "    </tr>\n",
       "    <tr>\n",
       "      <th>12992</th>\n",
       "      <td>16032019</td>\n",
       "      <td>25</td>\n",
       "      <td>1</td>\n",
       "      <td>5</td>\n",
       "      <td>0</td>\n",
       "      <td>4</td>\n",
       "      <td>3</td>\n",
       "      <td>998999</td>\n",
       "      <td>130370</td>\n",
       "      <td>13</td>\n",
       "      <td>Amazonas</td>\n",
       "    </tr>\n",
       "    <tr>\n",
       "      <th>12993</th>\n",
       "      <td>19052019</td>\n",
       "      <td>14</td>\n",
       "      <td>2</td>\n",
       "      <td>5</td>\n",
       "      <td>0</td>\n",
       "      <td>3</td>\n",
       "      <td>2</td>\n",
       "      <td>998999</td>\n",
       "      <td>130370</td>\n",
       "      <td>13</td>\n",
       "      <td>Amazonas</td>\n",
       "    </tr>\n",
       "    <tr>\n",
       "      <th>12994</th>\n",
       "      <td>25082019</td>\n",
       "      <td>20</td>\n",
       "      <td>1</td>\n",
       "      <td>5</td>\n",
       "      <td>0</td>\n",
       "      <td>9</td>\n",
       "      <td>9</td>\n",
       "      <td>998999</td>\n",
       "      <td>130406</td>\n",
       "      <td>13</td>\n",
       "      <td>Amazonas</td>\n",
       "    </tr>\n",
       "    <tr>\n",
       "      <th>12995</th>\n",
       "      <td>23052019</td>\n",
       "      <td>20</td>\n",
       "      <td>1</td>\n",
       "      <td>5</td>\n",
       "      <td>0</td>\n",
       "      <td>4</td>\n",
       "      <td>3</td>\n",
       "      <td>998999</td>\n",
       "      <td>130406</td>\n",
       "      <td>13</td>\n",
       "      <td>Amazonas</td>\n",
       "    </tr>\n",
       "    <tr>\n",
       "      <th>12996</th>\n",
       "      <td>14092019</td>\n",
       "      <td>14</td>\n",
       "      <td>2</td>\n",
       "      <td>5</td>\n",
       "      <td>0</td>\n",
       "      <td>9</td>\n",
       "      <td>9</td>\n",
       "      <td>998999</td>\n",
       "      <td>130406</td>\n",
       "      <td>13</td>\n",
       "      <td>Amazonas</td>\n",
       "    </tr>\n",
       "  </tbody>\n",
       "</table>\n",
       "<p>12981 rows × 11 columns</p>\n",
       "</div>"
      ],
      "text/plain": [
       "        DTOBITO  IDADE  SEXO  RACACOR  ESTCIV  ESC  ESC2010    OCUP  \\\n",
       "0      25012019     40     1        1       1    3        1  512105   \n",
       "1      11022019     79     2        1       9    9        9  999993   \n",
       "2      25012019     23     2        4       1    2        1  998999   \n",
       "3      21012019     38     1        2       1    1        0  517420   \n",
       "4       1012019     39     1        1       5    4        3  411005   \n",
       "...         ...    ...   ...      ...     ...  ...      ...     ...   \n",
       "12992  16032019     25     1        5       0    4        3  998999   \n",
       "12993  19052019     14     2        5       0    3        2  998999   \n",
       "12994  25082019     20     1        5       0    9        9  998999   \n",
       "12995  23052019     20     1        5       0    4        3  998999   \n",
       "12996  14092019     14     2        5       0    9        9  998999   \n",
       "\n",
       "       CODMUNRES  UF         Nome_UF  \n",
       "0         421160  42  Santa Catarina  \n",
       "1         352050  35       São Paulo  \n",
       "2         150618  15            Pará  \n",
       "3         311340  31    Minas Gerais  \n",
       "4         355030  35       São Paulo  \n",
       "...          ...  ..             ...  \n",
       "12992     130370  13        Amazonas  \n",
       "12993     130370  13        Amazonas  \n",
       "12994     130406  13        Amazonas  \n",
       "12995     130406  13        Amazonas  \n",
       "12996     130406  13        Amazonas  \n",
       "\n",
       "[12981 rows x 11 columns]"
      ]
     },
     "metadata": {},
     "output_type": "display_data"
    },
    {
     "data": {
      "text/plain": [
       "0                 Nova Veneza\n",
       "1                  Indaiatuba\n",
       "2              Rondon do Pará\n",
       "3                   Caratinga\n",
       "4                   São Paulo\n",
       "                 ...         \n",
       "12992    Santo Antônio do Içá\n",
       "12993    Santo Antônio do Içá\n",
       "12994               Tabatinga\n",
       "12995               Tabatinga\n",
       "12996               Tabatinga\n",
       "Name: Nome_Município, Length: 12981, dtype: object"
      ]
     },
     "metadata": {},
     "output_type": "display_data"
    }
   ],
   "source": [
    "display(df_merged)\n",
    "display(coluna_municipios)"
   ]
  },
  {
   "cell_type": "code",
   "execution_count": 30,
   "id": "c5653a99",
   "metadata": {
    "ExecuteTime": {
     "end_time": "2024-06-12T00:57:42.007341Z",
     "start_time": "2024-06-12T00:57:41.992337Z"
    }
   },
   "outputs": [],
   "source": [
    "y=df_merged['Nome_UF'].value_counts().values\n",
    "x=df_merged['Nome_UF'].value_counts().keys()"
   ]
  },
  {
   "cell_type": "code",
   "execution_count": 31,
   "id": "461be1c6",
   "metadata": {
    "ExecuteTime": {
     "end_time": "2024-06-12T00:57:42.023344Z",
     "start_time": "2024-06-12T00:57:42.009342Z"
    }
   },
   "outputs": [],
   "source": [
    "# plt.bar(x,y)\n",
    "# plt.title('Casos por Estado')\n",
    "# plt.xlabel('Estados')\n",
    "# plt.ylabel('Quantidades de Ocorrências')\n",
    "# plt.xticks(rotation=90)\n",
    "# plt.show()"
   ]
  },
  {
   "cell_type": "code",
   "execution_count": 32,
   "id": "3c944579",
   "metadata": {
    "ExecuteTime": {
     "end_time": "2024-06-12T00:57:42.039348Z",
     "start_time": "2024-06-12T00:57:42.025346Z"
    }
   },
   "outputs": [],
   "source": [
    "df_merged['DTOBITO'] = df_merged['DTOBITO'].astype('str')"
   ]
  },
  {
   "cell_type": "code",
   "execution_count": 33,
   "id": "f5700cc8",
   "metadata": {
    "ExecuteTime": {
     "end_time": "2024-06-12T00:57:42.055352Z",
     "start_time": "2024-06-12T00:57:42.041349Z"
    }
   },
   "outputs": [],
   "source": [
    "linha_aulixiar_tempo = df_merged['DTOBITO'][0]"
   ]
  },
  {
   "cell_type": "code",
   "execution_count": 34,
   "id": "af1b709d",
   "metadata": {
    "ExecuteTime": {
     "end_time": "2024-06-12T00:57:42.071355Z",
     "start_time": "2024-06-12T00:57:42.057353Z"
    }
   },
   "outputs": [],
   "source": [
    "def separar_tempo(linha):\n",
    "    if len(linha) < 8:\n",
    "        linha = '0'+linha\n",
    "    dia = linha[0:2]\n",
    "    mes = linha[2:4]\n",
    "    ano = linha[4:8]\n",
    "    return [dia,mes,ano]"
   ]
  },
  {
   "cell_type": "code",
   "execution_count": 35,
   "id": "dae273cf",
   "metadata": {
    "ExecuteTime": {
     "end_time": "2024-06-12T00:57:42.103362Z",
     "start_time": "2024-06-12T00:57:42.073359Z"
    }
   },
   "outputs": [],
   "source": [
    "x = list(map(lambda x:separar_tempo(x),df_merged['DTOBITO']))\n",
    "df_tempo = pd.DataFrame(x,columns=['DIA','MES','ANO'])"
   ]
  },
  {
   "cell_type": "code",
   "execution_count": 36,
   "id": "ead55c9d",
   "metadata": {
    "ExecuteTime": {
     "end_time": "2024-06-12T00:57:42.119366Z",
     "start_time": "2024-06-12T00:57:42.105364Z"
    }
   },
   "outputs": [],
   "source": [
    "df_merged.reset_index(inplace=True)"
   ]
  },
  {
   "cell_type": "code",
   "execution_count": 37,
   "id": "c1e909dd",
   "metadata": {
    "ExecuteTime": {
     "end_time": "2024-06-12T00:57:42.135369Z",
     "start_time": "2024-06-12T00:57:42.121367Z"
    }
   },
   "outputs": [],
   "source": [
    "df_merged = df_merged.join(df_tempo)"
   ]
  },
  {
   "cell_type": "code",
   "execution_count": 38,
   "id": "391ef75a",
   "metadata": {
    "ExecuteTime": {
     "end_time": "2024-06-12T00:57:42.151373Z",
     "start_time": "2024-06-12T00:57:42.137373Z"
    }
   },
   "outputs": [],
   "source": [
    "df_merged.drop(columns=['index','DTOBITO'],inplace=True)"
   ]
  },
  {
   "cell_type": "code",
   "execution_count": 48,
   "id": "842a6263",
   "metadata": {
    "ExecuteTime": {
     "end_time": "2024-06-12T01:28:28.732346Z",
     "start_time": "2024-06-12T01:28:28.659325Z"
    }
   },
   "outputs": [],
   "source": [
    "df_merged.to_csv(f'{arq}_toEDA.csv')"
   ]
  }
 ],
 "metadata": {
  "kernelspec": {
   "display_name": "Python 3 (ipykernel)",
   "language": "python",
   "name": "python3"
  },
  "language_info": {
   "codemirror_mode": {
    "name": "ipython",
    "version": 3
   },
   "file_extension": ".py",
   "mimetype": "text/x-python",
   "name": "python",
   "nbconvert_exporter": "python",
   "pygments_lexer": "ipython3",
   "version": "3.9.16"
  }
 },
 "nbformat": 4,
 "nbformat_minor": 5
}
