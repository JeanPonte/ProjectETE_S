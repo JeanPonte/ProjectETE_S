{
 "cells": [
  {
   "cell_type": "markdown",
   "id": "8f748762",
   "metadata": {},
   "source": [
    "## Pré-processamento de Dados\n",
    "Fase de limpeza e tratamento de dados, para torna-los utilizáveis."
   ]
  },
  {
   "cell_type": "markdown",
   "id": "936645e1",
   "metadata": {
    "heading_collapsed": true
   },
   "source": [
    "### Importação de bibliotecas"
   ]
  },
  {
   "cell_type": "code",
   "execution_count": 1,
   "id": "d8ccd8e5",
   "metadata": {
    "ExecuteTime": {
     "end_time": "2024-06-06T18:26:12.063759Z",
     "start_time": "2024-06-06T18:26:11.023526Z"
    },
    "hidden": true
   },
   "outputs": [],
   "source": [
    "import pandas as pd\n",
    "import numpy as np\n",
    "import matplotlib.pyplot as plt\n",
    "import os"
   ]
  },
  {
   "cell_type": "markdown",
   "id": "a43f0309",
   "metadata": {},
   "source": [
    "### Importação dos dados\n",
    "Já que os conjuntos de dados (Datasets) contém bastante dados, vou usar apenas um deles para auxiliar no tratamento e na limpeza, e depois será replicados no outros conjuntos. Assim reduzindo o custo computacional. "
   ]
  },
  {
   "cell_type": "code",
   "execution_count": 17,
   "id": "0f0b6289",
   "metadata": {
    "ExecuteTime": {
     "end_time": "2024-06-06T18:42:32.566522Z",
     "start_time": "2024-06-06T18:42:32.554520Z"
    }
   },
   "outputs": [],
   "source": [
    "path = \"Dados SUS/CSV_FILE\" #Caminho da pasta\n",
    "# print(os.listdir(path)) #Comando para ver os arquivos na pasta"
   ]
  },
  {
   "cell_type": "code",
   "execution_count": 67,
   "id": "e3a0242e",
   "metadata": {
    "ExecuteTime": {
     "end_time": "2024-06-06T19:07:34.611236Z",
     "start_time": "2024-06-06T19:07:33.619517Z"
    }
   },
   "outputs": [
    {
     "name": "stderr",
     "output_type": "stream",
     "text": [
      "C:\\Users\\Jnpx_\\AppData\\Local\\Temp\\ipykernel_11136\\159626666.py:2: DtypeWarning: Columns (66) have mixed types. Specify dtype option on import or set low_memory=False.\n",
      "  df_geral = pd.read_csv(file,encoding='latin-1')\n"
     ]
    },
    {
     "data": {
      "text/html": [
       "<div>\n",
       "<style scoped>\n",
       "    .dataframe tbody tr th:only-of-type {\n",
       "        vertical-align: middle;\n",
       "    }\n",
       "\n",
       "    .dataframe tbody tr th {\n",
       "        vertical-align: top;\n",
       "    }\n",
       "\n",
       "    .dataframe thead th {\n",
       "        text-align: right;\n",
       "    }\n",
       "</style>\n",
       "<table border=\"1\" class=\"dataframe\">\n",
       "  <thead>\n",
       "    <tr style=\"text-align: right;\">\n",
       "      <th></th>\n",
       "      <th>ORIGEM</th>\n",
       "      <th>TIPOBITO</th>\n",
       "      <th>DTOBITO</th>\n",
       "      <th>HORAOBITO</th>\n",
       "      <th>NATURAL</th>\n",
       "      <th>CODMUNNATU</th>\n",
       "      <th>DTNASC</th>\n",
       "      <th>IDADE</th>\n",
       "      <th>SEXO</th>\n",
       "      <th>RACACOR</th>\n",
       "      <th>...</th>\n",
       "      <th>FONTES</th>\n",
       "      <th>TPRESGINFO</th>\n",
       "      <th>TPNIVELINV</th>\n",
       "      <th>NUDIASINF</th>\n",
       "      <th>DTCADINF</th>\n",
       "      <th>MORTEPARTO</th>\n",
       "      <th>DTCONCASO</th>\n",
       "      <th>FONTESINF</th>\n",
       "      <th>ALTCAUSA</th>\n",
       "      <th>CONTADOR</th>\n",
       "    </tr>\n",
       "  </thead>\n",
       "  <tbody>\n",
       "    <tr>\n",
       "      <th>0</th>\n",
       "      <td>1</td>\n",
       "      <td>2</td>\n",
       "      <td>30032022</td>\n",
       "      <td>1840.0</td>\n",
       "      <td>850.0</td>\n",
       "      <td>500345.0</td>\n",
       "      <td>3011967.0</td>\n",
       "      <td>455</td>\n",
       "      <td>1</td>\n",
       "      <td>1.0</td>\n",
       "      <td>...</td>\n",
       "      <td>NaN</td>\n",
       "      <td>NaN</td>\n",
       "      <td>NaN</td>\n",
       "      <td>NaN</td>\n",
       "      <td>NaN</td>\n",
       "      <td>NaN</td>\n",
       "      <td>NaN</td>\n",
       "      <td>NaN</td>\n",
       "      <td>NaN</td>\n",
       "      <td>15</td>\n",
       "    </tr>\n",
       "    <tr>\n",
       "      <th>1</th>\n",
       "      <td>1</td>\n",
       "      <td>2</td>\n",
       "      <td>6032022</td>\n",
       "      <td>400.0</td>\n",
       "      <td>841.0</td>\n",
       "      <td>412760.0</td>\n",
       "      <td>28101994.0</td>\n",
       "      <td>427</td>\n",
       "      <td>1</td>\n",
       "      <td>1.0</td>\n",
       "      <td>...</td>\n",
       "      <td>NaN</td>\n",
       "      <td>NaN</td>\n",
       "      <td>NaN</td>\n",
       "      <td>NaN</td>\n",
       "      <td>NaN</td>\n",
       "      <td>NaN</td>\n",
       "      <td>NaN</td>\n",
       "      <td>NaN</td>\n",
       "      <td>NaN</td>\n",
       "      <td>35</td>\n",
       "    </tr>\n",
       "    <tr>\n",
       "      <th>2</th>\n",
       "      <td>1</td>\n",
       "      <td>2</td>\n",
       "      <td>5052022</td>\n",
       "      <td>2233.0</td>\n",
       "      <td>833.0</td>\n",
       "      <td>330490.0</td>\n",
       "      <td>21082011.0</td>\n",
       "      <td>410</td>\n",
       "      <td>2</td>\n",
       "      <td>1.0</td>\n",
       "      <td>...</td>\n",
       "      <td>NaN</td>\n",
       "      <td>NaN</td>\n",
       "      <td>NaN</td>\n",
       "      <td>NaN</td>\n",
       "      <td>NaN</td>\n",
       "      <td>NaN</td>\n",
       "      <td>NaN</td>\n",
       "      <td>NaN</td>\n",
       "      <td>NaN</td>\n",
       "      <td>100</td>\n",
       "    </tr>\n",
       "    <tr>\n",
       "      <th>3</th>\n",
       "      <td>1</td>\n",
       "      <td>2</td>\n",
       "      <td>10042022</td>\n",
       "      <td>1357.0</td>\n",
       "      <td>851.0</td>\n",
       "      <td>510792.0</td>\n",
       "      <td>21042019.0</td>\n",
       "      <td>402</td>\n",
       "      <td>2</td>\n",
       "      <td>1.0</td>\n",
       "      <td>...</td>\n",
       "      <td>NaN</td>\n",
       "      <td>NaN</td>\n",
       "      <td>NaN</td>\n",
       "      <td>NaN</td>\n",
       "      <td>NaN</td>\n",
       "      <td>NaN</td>\n",
       "      <td>NaN</td>\n",
       "      <td>NaN</td>\n",
       "      <td>NaN</td>\n",
       "      <td>108</td>\n",
       "    </tr>\n",
       "    <tr>\n",
       "      <th>4</th>\n",
       "      <td>1</td>\n",
       "      <td>2</td>\n",
       "      <td>26052022</td>\n",
       "      <td>954.0</td>\n",
       "      <td>829.0</td>\n",
       "      <td>291950.0</td>\n",
       "      <td>13061927.0</td>\n",
       "      <td>494</td>\n",
       "      <td>2</td>\n",
       "      <td>1.0</td>\n",
       "      <td>...</td>\n",
       "      <td>NaN</td>\n",
       "      <td>NaN</td>\n",
       "      <td>NaN</td>\n",
       "      <td>NaN</td>\n",
       "      <td>NaN</td>\n",
       "      <td>NaN</td>\n",
       "      <td>NaN</td>\n",
       "      <td>NaN</td>\n",
       "      <td>NaN</td>\n",
       "      <td>131</td>\n",
       "    </tr>\n",
       "    <tr>\n",
       "      <th>5</th>\n",
       "      <td>1</td>\n",
       "      <td>2</td>\n",
       "      <td>23012022</td>\n",
       "      <td>600.0</td>\n",
       "      <td>835.0</td>\n",
       "      <td>351880.0</td>\n",
       "      <td>23051991.0</td>\n",
       "      <td>430</td>\n",
       "      <td>1</td>\n",
       "      <td>4.0</td>\n",
       "      <td>...</td>\n",
       "      <td>NaN</td>\n",
       "      <td>NaN</td>\n",
       "      <td>NaN</td>\n",
       "      <td>NaN</td>\n",
       "      <td>NaN</td>\n",
       "      <td>NaN</td>\n",
       "      <td>NaN</td>\n",
       "      <td>NaN</td>\n",
       "      <td>NaN</td>\n",
       "      <td>167</td>\n",
       "    </tr>\n",
       "    <tr>\n",
       "      <th>6</th>\n",
       "      <td>1</td>\n",
       "      <td>2</td>\n",
       "      <td>22012022</td>\n",
       "      <td>2102.0</td>\n",
       "      <td>828.0</td>\n",
       "      <td>280590.0</td>\n",
       "      <td>23121977.0</td>\n",
       "      <td>444</td>\n",
       "      <td>1</td>\n",
       "      <td>4.0</td>\n",
       "      <td>...</td>\n",
       "      <td>NaN</td>\n",
       "      <td>NaN</td>\n",
       "      <td>NaN</td>\n",
       "      <td>NaN</td>\n",
       "      <td>NaN</td>\n",
       "      <td>NaN</td>\n",
       "      <td>NaN</td>\n",
       "      <td>NaN</td>\n",
       "      <td>NaN</td>\n",
       "      <td>170</td>\n",
       "    </tr>\n",
       "    <tr>\n",
       "      <th>7</th>\n",
       "      <td>1</td>\n",
       "      <td>2</td>\n",
       "      <td>23012022</td>\n",
       "      <td>430.0</td>\n",
       "      <td>828.0</td>\n",
       "      <td>280140.0</td>\n",
       "      <td>22062001.0</td>\n",
       "      <td>420</td>\n",
       "      <td>1</td>\n",
       "      <td>4.0</td>\n",
       "      <td>...</td>\n",
       "      <td>NaN</td>\n",
       "      <td>NaN</td>\n",
       "      <td>NaN</td>\n",
       "      <td>NaN</td>\n",
       "      <td>NaN</td>\n",
       "      <td>NaN</td>\n",
       "      <td>NaN</td>\n",
       "      <td>NaN</td>\n",
       "      <td>NaN</td>\n",
       "      <td>171</td>\n",
       "    </tr>\n",
       "    <tr>\n",
       "      <th>8</th>\n",
       "      <td>1</td>\n",
       "      <td>2</td>\n",
       "      <td>23012022</td>\n",
       "      <td>2340.0</td>\n",
       "      <td>828.0</td>\n",
       "      <td>280067.0</td>\n",
       "      <td>26032003.0</td>\n",
       "      <td>418</td>\n",
       "      <td>1</td>\n",
       "      <td>4.0</td>\n",
       "      <td>...</td>\n",
       "      <td>NaN</td>\n",
       "      <td>NaN</td>\n",
       "      <td>NaN</td>\n",
       "      <td>NaN</td>\n",
       "      <td>NaN</td>\n",
       "      <td>NaN</td>\n",
       "      <td>NaN</td>\n",
       "      <td>NaN</td>\n",
       "      <td>NaN</td>\n",
       "      <td>172</td>\n",
       "    </tr>\n",
       "    <tr>\n",
       "      <th>9</th>\n",
       "      <td>1</td>\n",
       "      <td>2</td>\n",
       "      <td>22052022</td>\n",
       "      <td>1710.0</td>\n",
       "      <td>835.0</td>\n",
       "      <td>353240.0</td>\n",
       "      <td>30102020.0</td>\n",
       "      <td>401</td>\n",
       "      <td>1</td>\n",
       "      <td>1.0</td>\n",
       "      <td>...</td>\n",
       "      <td>SXXXSX</td>\n",
       "      <td>NaN</td>\n",
       "      <td>NaN</td>\n",
       "      <td>NaN</td>\n",
       "      <td>2062022.0</td>\n",
       "      <td>3.0</td>\n",
       "      <td>2062022.0</td>\n",
       "      <td>NaN</td>\n",
       "      <td>2.0</td>\n",
       "      <td>177</td>\n",
       "    </tr>\n",
       "  </tbody>\n",
       "</table>\n",
       "<p>10 rows × 87 columns</p>\n",
       "</div>"
      ],
      "text/plain": [
       "   ORIGEM  TIPOBITO   DTOBITO  HORAOBITO  NATURAL  CODMUNNATU      DTNASC  \\\n",
       "0       1         2  30032022     1840.0    850.0    500345.0   3011967.0   \n",
       "1       1         2   6032022      400.0    841.0    412760.0  28101994.0   \n",
       "2       1         2   5052022     2233.0    833.0    330490.0  21082011.0   \n",
       "3       1         2  10042022     1357.0    851.0    510792.0  21042019.0   \n",
       "4       1         2  26052022      954.0    829.0    291950.0  13061927.0   \n",
       "5       1         2  23012022      600.0    835.0    351880.0  23051991.0   \n",
       "6       1         2  22012022     2102.0    828.0    280590.0  23121977.0   \n",
       "7       1         2  23012022      430.0    828.0    280140.0  22062001.0   \n",
       "8       1         2  23012022     2340.0    828.0    280067.0  26032003.0   \n",
       "9       1         2  22052022     1710.0    835.0    353240.0  30102020.0   \n",
       "\n",
       "   IDADE  SEXO  RACACOR  ...  FONTES  TPRESGINFO  TPNIVELINV  NUDIASINF  \\\n",
       "0    455     1      1.0  ...     NaN         NaN         NaN        NaN   \n",
       "1    427     1      1.0  ...     NaN         NaN         NaN        NaN   \n",
       "2    410     2      1.0  ...     NaN         NaN         NaN        NaN   \n",
       "3    402     2      1.0  ...     NaN         NaN         NaN        NaN   \n",
       "4    494     2      1.0  ...     NaN         NaN         NaN        NaN   \n",
       "5    430     1      4.0  ...     NaN         NaN         NaN        NaN   \n",
       "6    444     1      4.0  ...     NaN         NaN         NaN        NaN   \n",
       "7    420     1      4.0  ...     NaN         NaN         NaN        NaN   \n",
       "8    418     1      4.0  ...     NaN         NaN         NaN        NaN   \n",
       "9    401     1      1.0  ...  SXXXSX         NaN         NaN        NaN   \n",
       "\n",
       "    DTCADINF  MORTEPARTO  DTCONCASO  FONTESINF  ALTCAUSA  CONTADOR  \n",
       "0        NaN         NaN        NaN        NaN       NaN        15  \n",
       "1        NaN         NaN        NaN        NaN       NaN        35  \n",
       "2        NaN         NaN        NaN        NaN       NaN       100  \n",
       "3        NaN         NaN        NaN        NaN       NaN       108  \n",
       "4        NaN         NaN        NaN        NaN       NaN       131  \n",
       "5        NaN         NaN        NaN        NaN       NaN       167  \n",
       "6        NaN         NaN        NaN        NaN       NaN       170  \n",
       "7        NaN         NaN        NaN        NaN       NaN       171  \n",
       "8        NaN         NaN        NaN        NaN       NaN       172  \n",
       "9  2062022.0         3.0  2062022.0        NaN       2.0       177  \n",
       "\n",
       "[10 rows x 87 columns]"
      ]
     },
     "metadata": {},
     "output_type": "display_data"
    }
   ],
   "source": [
    "file = f\"{path}/DOEXT22.csv\"\n",
    "df_geral = pd.read_csv(file,encoding='latin-1')\n",
    "display(df_geral.head(10))\n",
    "#print(df_geral.columns.to_list()) #Ver todas as colunas do dataset"
   ]
  },
  {
   "cell_type": "markdown",
   "id": "4f9fbb02",
   "metadata": {},
   "source": [
    "### Tramento de dados"
   ]
  },
  {
   "cell_type": "markdown",
   "id": "74099e8b",
   "metadata": {},
   "source": [
    "Para não ser custoso computacionalmente, a seleção visa a redução da quantidade de colunas."
   ]
  },
  {
   "cell_type": "code",
   "execution_count": 68,
   "id": "7bae4979",
   "metadata": {
    "ExecuteTime": {
     "end_time": "2024-06-06T19:07:38.182527Z",
     "start_time": "2024-06-06T19:07:38.165523Z"
    }
   },
   "outputs": [],
   "source": [
    "colunas_selecionadas = ['CONTADOR','DTNASC','DTOBITO','IDADE',\n",
    "                        'SEXO','RACACOR','ESTCIV','ESC',\n",
    "                        'ESC2010','OCUP','LOCOCOR','CIRCOBITO']\n",
    "\n",
    "df_local = df_geral[['CONTADOR','NATURAL','CODMUNNATU','CODMUNRES','CODMUNOCOR']]"
   ]
  },
  {
   "cell_type": "code",
   "execution_count": 69,
   "id": "51332944",
   "metadata": {
    "ExecuteTime": {
     "end_time": "2024-06-06T19:07:40.501501Z",
     "start_time": "2024-06-06T19:07:39.969874Z"
    }
   },
   "outputs": [],
   "source": [
    "df_geral = pd.read_csv(file,encoding='latin-1',usecols=colunas_selecionadas) \n",
    "df_colunas_selecionadas = df_geral[colunas_selecionadas]"
   ]
  },
  {
   "cell_type": "markdown",
   "id": "efffd84c",
   "metadata": {
    "ExecuteTime": {
     "end_time": "2024-06-06T18:50:40.929507Z",
     "start_time": "2024-06-06T18:50:40.912517Z"
    }
   },
   "source": [
    "Selecionando apenas casos de suicídios, sabendo que o codigo para os casos é 2. "
   ]
  },
  {
   "cell_type": "code",
   "execution_count": 70,
   "id": "c7262150",
   "metadata": {
    "ExecuteTime": {
     "end_time": "2024-06-06T19:07:46.912268Z",
     "start_time": "2024-06-06T19:07:46.901265Z"
    }
   },
   "outputs": [],
   "source": [
    "df_s = df_colunas_selecionadas.loc[(df_geral['CIRCOBITO'])==2]"
   ]
  },
  {
   "cell_type": "code",
   "execution_count": 71,
   "id": "e91cdbd0",
   "metadata": {
    "ExecuteTime": {
     "end_time": "2024-06-06T19:07:49.339672Z",
     "start_time": "2024-06-06T19:07:49.320543Z"
    }
   },
   "outputs": [],
   "source": [
    "idade_indefinida = df_s.loc[(df_s['IDADE'])==999] #Pesquisa por idade indefinida\n",
    "# display(idade_indefinida)"
   ]
  },
  {
   "cell_type": "code",
   "execution_count": 72,
   "id": "3ea30f7e",
   "metadata": {
    "ExecuteTime": {
     "end_time": "2024-06-06T19:07:50.751411Z",
     "start_time": "2024-06-06T19:07:50.742410Z"
    }
   },
   "outputs": [],
   "source": [
    "df_s = df_s.drop(index=idade_indefinida.index) #Drop idade indefinida"
   ]
  },
  {
   "cell_type": "code",
   "execution_count": 73,
   "id": "ee29e073",
   "metadata": {
    "ExecuteTime": {
     "end_time": "2024-06-06T19:07:55.247509Z",
     "start_time": "2024-06-06T19:07:55.234508Z"
    }
   },
   "outputs": [],
   "source": [
    "linha_auxiliar = df_s.loc[5]"
   ]
  },
  {
   "cell_type": "code",
   "execution_count": 74,
   "id": "114049b0",
   "metadata": {
    "ExecuteTime": {
     "end_time": "2024-06-06T19:07:56.976506Z",
     "start_time": "2024-06-06T19:07:56.960411Z"
    }
   },
   "outputs": [],
   "source": [
    "pd.options.mode.copy_on_write = True\n",
    "def ajustar_idade(linha):\n",
    "    if(linha['IDADE']) > 400:\n",
    "        linha['IDADE'] = int(linha['IDADE'] - 400)\n",
    "    return linha"
   ]
  },
  {
   "cell_type": "code",
   "execution_count": 75,
   "id": "d8ea571c",
   "metadata": {
    "ExecuteTime": {
     "end_time": "2024-06-06T19:08:03.753506Z",
     "start_time": "2024-06-06T19:08:02.289522Z"
    }
   },
   "outputs": [],
   "source": [
    "df_s = df_s.apply(lambda x:ajustar_idade(x),axis=1)"
   ]
  },
  {
   "cell_type": "code",
   "execution_count": 76,
   "id": "5e9ba591",
   "metadata": {
    "ExecuteTime": {
     "end_time": "2024-06-06T19:08:04.827523Z",
     "start_time": "2024-06-06T19:08:04.808519Z"
    }
   },
   "outputs": [
    {
     "data": {
      "text/html": [
       "<div>\n",
       "<style scoped>\n",
       "    .dataframe tbody tr th:only-of-type {\n",
       "        vertical-align: middle;\n",
       "    }\n",
       "\n",
       "    .dataframe tbody tr th {\n",
       "        vertical-align: top;\n",
       "    }\n",
       "\n",
       "    .dataframe thead th {\n",
       "        text-align: right;\n",
       "    }\n",
       "</style>\n",
       "<table border=\"1\" class=\"dataframe\">\n",
       "  <thead>\n",
       "    <tr style=\"text-align: right;\">\n",
       "      <th></th>\n",
       "      <th>CONTADOR</th>\n",
       "      <th>DTNASC</th>\n",
       "      <th>DTOBITO</th>\n",
       "      <th>IDADE</th>\n",
       "      <th>SEXO</th>\n",
       "      <th>RACACOR</th>\n",
       "      <th>ESTCIV</th>\n",
       "      <th>ESC</th>\n",
       "      <th>ESC2010</th>\n",
       "      <th>OCUP</th>\n",
       "      <th>LOCOCOR</th>\n",
       "      <th>CIRCOBITO</th>\n",
       "    </tr>\n",
       "  </thead>\n",
       "  <tbody>\n",
       "    <tr>\n",
       "      <th>14141</th>\n",
       "      <td>152644.0</td>\n",
       "      <td>6092015.0</td>\n",
       "      <td>26062022.0</td>\n",
       "      <td>6.0</td>\n",
       "      <td>1.0</td>\n",
       "      <td>4.0</td>\n",
       "      <td>1.0</td>\n",
       "      <td>NaN</td>\n",
       "      <td>NaN</td>\n",
       "      <td>999991.0</td>\n",
       "      <td>3.0</td>\n",
       "      <td>2.0</td>\n",
       "    </tr>\n",
       "  </tbody>\n",
       "</table>\n",
       "</div>"
      ],
      "text/plain": [
       "       CONTADOR     DTNASC     DTOBITO  IDADE  SEXO  RACACOR  ESTCIV  ESC  \\\n",
       "14141  152644.0  6092015.0  26062022.0    6.0   1.0      4.0     1.0  NaN   \n",
       "\n",
       "       ESC2010      OCUP  LOCOCOR  CIRCOBITO  \n",
       "14141      NaN  999991.0      3.0        2.0  "
      ]
     },
     "execution_count": 76,
     "metadata": {},
     "output_type": "execute_result"
    }
   ],
   "source": [
    "df_s[df_s['IDADE']==6]"
   ]
  },
  {
   "cell_type": "code",
   "execution_count": 77,
   "id": "415c5339",
   "metadata": {
    "ExecuteTime": {
     "end_time": "2024-06-06T19:08:06.922521Z",
     "start_time": "2024-06-06T19:08:06.904526Z"
    }
   },
   "outputs": [],
   "source": [
    "df_s.drop(df_s[df_s['IDADE']==6].index,inplace=True)"
   ]
  },
  {
   "cell_type": "code",
   "execution_count": 78,
   "id": "d197fb1a",
   "metadata": {
    "ExecuteTime": {
     "end_time": "2024-06-06T19:08:08.294712Z",
     "start_time": "2024-06-06T19:08:08.280531Z"
    }
   },
   "outputs": [],
   "source": [
    "df_s.drop(columns='DTNASC',inplace=True)"
   ]
  },
  {
   "cell_type": "code",
   "execution_count": 79,
   "id": "bd97c2df",
   "metadata": {
    "ExecuteTime": {
     "end_time": "2024-06-06T19:08:10.362528Z",
     "start_time": "2024-06-06T19:08:10.329521Z"
    }
   },
   "outputs": [
    {
     "data": {
      "text/html": [
       "<div>\n",
       "<style scoped>\n",
       "    .dataframe tbody tr th:only-of-type {\n",
       "        vertical-align: middle;\n",
       "    }\n",
       "\n",
       "    .dataframe tbody tr th {\n",
       "        vertical-align: top;\n",
       "    }\n",
       "\n",
       "    .dataframe thead th {\n",
       "        text-align: right;\n",
       "    }\n",
       "</style>\n",
       "<table border=\"1\" class=\"dataframe\">\n",
       "  <thead>\n",
       "    <tr style=\"text-align: right;\">\n",
       "      <th></th>\n",
       "      <th>CONTADOR</th>\n",
       "      <th>DTOBITO</th>\n",
       "      <th>IDADE</th>\n",
       "      <th>SEXO</th>\n",
       "      <th>RACACOR</th>\n",
       "      <th>ESTCIV</th>\n",
       "      <th>ESC</th>\n",
       "      <th>ESC2010</th>\n",
       "      <th>OCUP</th>\n",
       "      <th>LOCOCOR</th>\n",
       "      <th>CIRCOBITO</th>\n",
       "    </tr>\n",
       "  </thead>\n",
       "  <tbody>\n",
       "    <tr>\n",
       "      <th>5</th>\n",
       "      <td>167.0</td>\n",
       "      <td>23012022.0</td>\n",
       "      <td>30.0</td>\n",
       "      <td>1.0</td>\n",
       "      <td>4.0</td>\n",
       "      <td>5.0</td>\n",
       "      <td>4.0</td>\n",
       "      <td>3.0</td>\n",
       "      <td>782305.0</td>\n",
       "      <td>3.0</td>\n",
       "      <td>2.0</td>\n",
       "    </tr>\n",
       "    <tr>\n",
       "      <th>14</th>\n",
       "      <td>213.0</td>\n",
       "      <td>27012022.0</td>\n",
       "      <td>53.0</td>\n",
       "      <td>1.0</td>\n",
       "      <td>2.0</td>\n",
       "      <td>2.0</td>\n",
       "      <td>2.0</td>\n",
       "      <td>1.0</td>\n",
       "      <td>715210.0</td>\n",
       "      <td>3.0</td>\n",
       "      <td>2.0</td>\n",
       "    </tr>\n",
       "    <tr>\n",
       "      <th>19</th>\n",
       "      <td>277.0</td>\n",
       "      <td>8022022.0</td>\n",
       "      <td>52.0</td>\n",
       "      <td>1.0</td>\n",
       "      <td>1.0</td>\n",
       "      <td>1.0</td>\n",
       "      <td>2.0</td>\n",
       "      <td>1.0</td>\n",
       "      <td>512105.0</td>\n",
       "      <td>3.0</td>\n",
       "      <td>2.0</td>\n",
       "    </tr>\n",
       "    <tr>\n",
       "      <th>20</th>\n",
       "      <td>279.0</td>\n",
       "      <td>16022022.0</td>\n",
       "      <td>51.0</td>\n",
       "      <td>2.0</td>\n",
       "      <td>1.0</td>\n",
       "      <td>1.0</td>\n",
       "      <td>2.0</td>\n",
       "      <td>1.0</td>\n",
       "      <td>517310.0</td>\n",
       "      <td>3.0</td>\n",
       "      <td>2.0</td>\n",
       "    </tr>\n",
       "    <tr>\n",
       "      <th>31</th>\n",
       "      <td>450.0</td>\n",
       "      <td>23042022.0</td>\n",
       "      <td>42.0</td>\n",
       "      <td>1.0</td>\n",
       "      <td>4.0</td>\n",
       "      <td>4.0</td>\n",
       "      <td>9.0</td>\n",
       "      <td>9.0</td>\n",
       "      <td>252105.0</td>\n",
       "      <td>3.0</td>\n",
       "      <td>2.0</td>\n",
       "    </tr>\n",
       "    <tr>\n",
       "      <th>...</th>\n",
       "      <td>...</td>\n",
       "      <td>...</td>\n",
       "      <td>...</td>\n",
       "      <td>...</td>\n",
       "      <td>...</td>\n",
       "      <td>...</td>\n",
       "      <td>...</td>\n",
       "      <td>...</td>\n",
       "      <td>...</td>\n",
       "      <td>...</td>\n",
       "      <td>...</td>\n",
       "    </tr>\n",
       "    <tr>\n",
       "      <th>152910</th>\n",
       "      <td>1544077.0</td>\n",
       "      <td>6052022.0</td>\n",
       "      <td>29.0</td>\n",
       "      <td>1.0</td>\n",
       "      <td>1.0</td>\n",
       "      <td>4.0</td>\n",
       "      <td>4.0</td>\n",
       "      <td>2.0</td>\n",
       "      <td>715615.0</td>\n",
       "      <td>1.0</td>\n",
       "      <td>2.0</td>\n",
       "    </tr>\n",
       "    <tr>\n",
       "      <th>152921</th>\n",
       "      <td>1544158.0</td>\n",
       "      <td>24042022.0</td>\n",
       "      <td>15.0</td>\n",
       "      <td>1.0</td>\n",
       "      <td>5.0</td>\n",
       "      <td>NaN</td>\n",
       "      <td>1.0</td>\n",
       "      <td>0.0</td>\n",
       "      <td>NaN</td>\n",
       "      <td>5.0</td>\n",
       "      <td>2.0</td>\n",
       "    </tr>\n",
       "    <tr>\n",
       "      <th>152926</th>\n",
       "      <td>1544202.0</td>\n",
       "      <td>1052022.0</td>\n",
       "      <td>18.0</td>\n",
       "      <td>2.0</td>\n",
       "      <td>5.0</td>\n",
       "      <td>NaN</td>\n",
       "      <td>1.0</td>\n",
       "      <td>0.0</td>\n",
       "      <td>NaN</td>\n",
       "      <td>3.0</td>\n",
       "      <td>2.0</td>\n",
       "    </tr>\n",
       "    <tr>\n",
       "      <th>152936</th>\n",
       "      <td>1544229.0</td>\n",
       "      <td>24122022.0</td>\n",
       "      <td>26.0</td>\n",
       "      <td>1.0</td>\n",
       "      <td>5.0</td>\n",
       "      <td>NaN</td>\n",
       "      <td>3.0</td>\n",
       "      <td>2.0</td>\n",
       "      <td>NaN</td>\n",
       "      <td>6.0</td>\n",
       "      <td>2.0</td>\n",
       "    </tr>\n",
       "    <tr>\n",
       "      <th>152939</th>\n",
       "      <td>1544237.0</td>\n",
       "      <td>2082022.0</td>\n",
       "      <td>42.0</td>\n",
       "      <td>1.0</td>\n",
       "      <td>5.0</td>\n",
       "      <td>NaN</td>\n",
       "      <td>1.0</td>\n",
       "      <td>0.0</td>\n",
       "      <td>NaN</td>\n",
       "      <td>6.0</td>\n",
       "      <td>2.0</td>\n",
       "    </tr>\n",
       "  </tbody>\n",
       "</table>\n",
       "<p>15656 rows × 11 columns</p>\n",
       "</div>"
      ],
      "text/plain": [
       "         CONTADOR     DTOBITO  IDADE  SEXO  RACACOR  ESTCIV  ESC  ESC2010  \\\n",
       "5           167.0  23012022.0   30.0   1.0      4.0     5.0  4.0      3.0   \n",
       "14          213.0  27012022.0   53.0   1.0      2.0     2.0  2.0      1.0   \n",
       "19          277.0   8022022.0   52.0   1.0      1.0     1.0  2.0      1.0   \n",
       "20          279.0  16022022.0   51.0   2.0      1.0     1.0  2.0      1.0   \n",
       "31          450.0  23042022.0   42.0   1.0      4.0     4.0  9.0      9.0   \n",
       "...           ...         ...    ...   ...      ...     ...  ...      ...   \n",
       "152910  1544077.0   6052022.0   29.0   1.0      1.0     4.0  4.0      2.0   \n",
       "152921  1544158.0  24042022.0   15.0   1.0      5.0     NaN  1.0      0.0   \n",
       "152926  1544202.0   1052022.0   18.0   2.0      5.0     NaN  1.0      0.0   \n",
       "152936  1544229.0  24122022.0   26.0   1.0      5.0     NaN  3.0      2.0   \n",
       "152939  1544237.0   2082022.0   42.0   1.0      5.0     NaN  1.0      0.0   \n",
       "\n",
       "            OCUP  LOCOCOR  CIRCOBITO  \n",
       "5       782305.0      3.0        2.0  \n",
       "14      715210.0      3.0        2.0  \n",
       "19      512105.0      3.0        2.0  \n",
       "20      517310.0      3.0        2.0  \n",
       "31      252105.0      3.0        2.0  \n",
       "...          ...      ...        ...  \n",
       "152910  715615.0      1.0        2.0  \n",
       "152921       NaN      5.0        2.0  \n",
       "152926       NaN      3.0        2.0  \n",
       "152936       NaN      6.0        2.0  \n",
       "152939       NaN      6.0        2.0  \n",
       "\n",
       "[15656 rows x 11 columns]"
      ]
     },
     "execution_count": 79,
     "metadata": {},
     "output_type": "execute_result"
    }
   ],
   "source": [
    "df_s"
   ]
  },
  {
   "cell_type": "code",
   "execution_count": 80,
   "id": "4fe2272e",
   "metadata": {
    "ExecuteTime": {
     "end_time": "2024-06-06T19:08:17.363561Z",
     "start_time": "2024-06-06T19:08:17.120507Z"
    }
   },
   "outputs": [
    {
     "name": "stdout",
     "output_type": "stream",
     "text": [
      "(array([  6,  17,  30,  53,  94, 117, 153, 200, 254, 287, 289, 309, 327,\n",
      "       326, 345, 307, 349, 329, 325, 325, 323, 302, 301, 338, 337, 339,\n",
      "       350, 312, 311, 369, 323, 315, 313, 320, 300, 318, 280, 264, 246,\n",
      "       247, 247, 245, 225, 236, 204, 242, 228, 222, 237, 194, 181, 182,\n",
      "       167, 158, 136, 143, 138, 151, 138, 122, 112,  91, 100,  97,  79,\n",
      "        86,  77,  75,  57,  64,  48,  37,  49,  41,  30,  35,  34,  19,\n",
      "         9,  15,  17,  11,   7,  12,   2,   1,   3,   1,   1], dtype=int64), array([ 9.        , 10.01123596, 11.02247191, 12.03370787, 13.04494382,\n",
      "       14.05617978, 15.06741573, 16.07865169, 17.08988764, 18.1011236 ,\n",
      "       19.11235955, 20.12359551, 21.13483146, 22.14606742, 23.15730337,\n",
      "       24.16853933, 25.17977528, 26.19101124, 27.20224719, 28.21348315,\n",
      "       29.2247191 , 30.23595506, 31.24719101, 32.25842697, 33.26966292,\n",
      "       34.28089888, 35.29213483, 36.30337079, 37.31460674, 38.3258427 ,\n",
      "       39.33707865, 40.34831461, 41.35955056, 42.37078652, 43.38202247,\n",
      "       44.39325843, 45.40449438, 46.41573034, 47.42696629, 48.43820225,\n",
      "       49.4494382 , 50.46067416, 51.47191011, 52.48314607, 53.49438202,\n",
      "       54.50561798, 55.51685393, 56.52808989, 57.53932584, 58.5505618 ,\n",
      "       59.56179775, 60.57303371, 61.58426966, 62.59550562, 63.60674157,\n",
      "       64.61797753, 65.62921348, 66.64044944, 67.65168539, 68.66292135,\n",
      "       69.6741573 , 70.68539326, 71.69662921, 72.70786517, 73.71910112,\n",
      "       74.73033708, 75.74157303, 76.75280899, 77.76404494, 78.7752809 ,\n",
      "       79.78651685, 80.79775281, 81.80898876, 82.82022472, 83.83146067,\n",
      "       84.84269663, 85.85393258, 86.86516854, 87.87640449, 88.88764045,\n",
      "       89.8988764 , 90.91011236, 91.92134831, 92.93258427, 93.94382022,\n",
      "       94.95505618, 95.96629213, 96.97752809, 97.98876404, 99.        ]))\n"
     ]
    },
    {
     "data": {
      "image/png": "[encoded data removed]",
      "text/plain": [
       "<Figure size 640x480 with 1 Axes>"
      ]
     },
     "metadata": {},
     "output_type": "display_data"
    }
   ],
   "source": [
    "plt.hist(df_s['IDADE'],bins=89)\n",
    "print(np.histogram(df_s['IDADE'],bins=89))\n",
    "plt.show()"
   ]
  },
  {
   "cell_type": "code",
   "execution_count": 82,
   "id": "5186437a",
   "metadata": {
    "ExecuteTime": {
     "end_time": "2024-06-06T19:10:50.631312Z",
     "start_time": "2024-06-06T19:10:50.620311Z"
    }
   },
   "outputs": [],
   "source": [
    "val = df_s['OCUP'].value_counts() #Buscar todas as Ocupações (CBO2002)"
   ]
  }
 ],
 "metadata": {
  "kernelspec": {
   "display_name": "Python 3 (ipykernel)",
   "language": "python",
   "name": "python3"
  },
  "language_info": {
   "codemirror_mode": {
    "name": "ipython",
    "version": 3
   },
   "file_extension": ".py",
   "mimetype": "text/x-python",
   "name": "python",
   "nbconvert_exporter": "python",
   "pygments_lexer": "ipython3",
   "version": "3.9.16"
  }
 },
 "nbformat": 4,
 "nbformat_minor": 5
}
