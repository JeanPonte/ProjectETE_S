{
 "cells": [
  {
   "cell_type": "code",
   "execution_count": 1,
   "id": "683544bf",
   "metadata": {
    "ExecuteTime": {
     "end_time": "2024-06-20T14:15:04.436650Z",
     "start_time": "2024-06-20T14:15:03.248383Z"
    }
   },
   "outputs": [],
   "source": [
    "import pandas as pd\n",
    "import numpy as np\n",
    "import matplotlib.pyplot as plt "
   ]
  },
  {
   "cell_type": "code",
   "execution_count": 2,
   "id": "29a7b356",
   "metadata": {
    "ExecuteTime": {
     "end_time": "2024-06-20T14:15:05.470882Z",
     "start_time": "2024-06-20T14:15:05.403870Z"
    }
   },
   "outputs": [],
   "source": [
    "df_eda = pd.read_csv('DOEXT19_toEDA.csv')"
   ]
  },
  {
   "cell_type": "code",
   "execution_count": 3,
   "id": "306560f7",
   "metadata": {
    "ExecuteTime": {
     "end_time": "2024-06-20T14:15:06.850194Z",
     "start_time": "2024-06-20T14:15:06.827190Z"
    }
   },
   "outputs": [],
   "source": [
    "df_eda.drop(columns=df_eda.columns[0],inplace=True)"
   ]
  },
  {
   "cell_type": "code",
   "execution_count": 4,
   "id": "26227cff",
   "metadata": {
    "ExecuteTime": {
     "end_time": "2024-06-20T14:15:08.057467Z",
     "start_time": "2024-06-20T14:15:08.027462Z"
    }
   },
   "outputs": [
    {
     "data": {
      "text/html": [
       "<div>\n",
       "<style scoped>\n",
       "    .dataframe tbody tr th:only-of-type {\n",
       "        vertical-align: middle;\n",
       "    }\n",
       "\n",
       "    .dataframe tbody tr th {\n",
       "        vertical-align: top;\n",
       "    }\n",
       "\n",
       "    .dataframe thead th {\n",
       "        text-align: right;\n",
       "    }\n",
       "</style>\n",
       "<table border=\"1\" class=\"dataframe\">\n",
       "  <thead>\n",
       "    <tr style=\"text-align: right;\">\n",
       "      <th></th>\n",
       "      <th>IDADE</th>\n",
       "      <th>SEXO</th>\n",
       "      <th>RACACOR</th>\n",
       "      <th>ESTCIV</th>\n",
       "      <th>ESC</th>\n",
       "      <th>ESC2010</th>\n",
       "      <th>OCUP</th>\n",
       "      <th>CODMUNRES</th>\n",
       "      <th>UF</th>\n",
       "      <th>Nome_UF</th>\n",
       "      <th>DIA</th>\n",
       "      <th>MES</th>\n",
       "      <th>ANO</th>\n",
       "    </tr>\n",
       "  </thead>\n",
       "  <tbody>\n",
       "    <tr>\n",
       "      <th>0</th>\n",
       "      <td>40</td>\n",
       "      <td>1</td>\n",
       "      <td>1</td>\n",
       "      <td>1</td>\n",
       "      <td>3</td>\n",
       "      <td>1</td>\n",
       "      <td>512105</td>\n",
       "      <td>421160</td>\n",
       "      <td>42</td>\n",
       "      <td>Santa Catarina</td>\n",
       "      <td>25</td>\n",
       "      <td>1</td>\n",
       "      <td>2019</td>\n",
       "    </tr>\n",
       "    <tr>\n",
       "      <th>1</th>\n",
       "      <td>79</td>\n",
       "      <td>2</td>\n",
       "      <td>1</td>\n",
       "      <td>9</td>\n",
       "      <td>9</td>\n",
       "      <td>9</td>\n",
       "      <td>999993</td>\n",
       "      <td>352050</td>\n",
       "      <td>35</td>\n",
       "      <td>São Paulo</td>\n",
       "      <td>11</td>\n",
       "      <td>2</td>\n",
       "      <td>2019</td>\n",
       "    </tr>\n",
       "    <tr>\n",
       "      <th>2</th>\n",
       "      <td>23</td>\n",
       "      <td>2</td>\n",
       "      <td>4</td>\n",
       "      <td>1</td>\n",
       "      <td>2</td>\n",
       "      <td>1</td>\n",
       "      <td>998999</td>\n",
       "      <td>150618</td>\n",
       "      <td>15</td>\n",
       "      <td>Pará</td>\n",
       "      <td>25</td>\n",
       "      <td>1</td>\n",
       "      <td>2019</td>\n",
       "    </tr>\n",
       "    <tr>\n",
       "      <th>3</th>\n",
       "      <td>38</td>\n",
       "      <td>1</td>\n",
       "      <td>2</td>\n",
       "      <td>1</td>\n",
       "      <td>1</td>\n",
       "      <td>0</td>\n",
       "      <td>517420</td>\n",
       "      <td>311340</td>\n",
       "      <td>31</td>\n",
       "      <td>Minas Gerais</td>\n",
       "      <td>21</td>\n",
       "      <td>1</td>\n",
       "      <td>2019</td>\n",
       "    </tr>\n",
       "    <tr>\n",
       "      <th>4</th>\n",
       "      <td>39</td>\n",
       "      <td>1</td>\n",
       "      <td>1</td>\n",
       "      <td>5</td>\n",
       "      <td>4</td>\n",
       "      <td>3</td>\n",
       "      <td>411005</td>\n",
       "      <td>355030</td>\n",
       "      <td>35</td>\n",
       "      <td>São Paulo</td>\n",
       "      <td>1</td>\n",
       "      <td>1</td>\n",
       "      <td>2019</td>\n",
       "    </tr>\n",
       "  </tbody>\n",
       "</table>\n",
       "</div>"
      ],
      "text/plain": [
       "   IDADE  SEXO  RACACOR  ESTCIV  ESC  ESC2010    OCUP  CODMUNRES  UF  \\\n",
       "0     40     1        1       1    3        1  512105     421160  42   \n",
       "1     79     2        1       9    9        9  999993     352050  35   \n",
       "2     23     2        4       1    2        1  998999     150618  15   \n",
       "3     38     1        2       1    1        0  517420     311340  31   \n",
       "4     39     1        1       5    4        3  411005     355030  35   \n",
       "\n",
       "          Nome_UF  DIA  MES   ANO  \n",
       "0  Santa Catarina   25    1  2019  \n",
       "1       São Paulo   11    2  2019  \n",
       "2            Pará   25    1  2019  \n",
       "3    Minas Gerais   21    1  2019  \n",
       "4       São Paulo    1    1  2019  "
      ]
     },
     "execution_count": 4,
     "metadata": {},
     "output_type": "execute_result"
    }
   ],
   "source": [
    "df_eda.head(5)"
   ]
  },
  {
   "cell_type": "code",
   "execution_count": 5,
   "id": "7f2bca4b",
   "metadata": {
    "ExecuteTime": {
     "end_time": "2024-06-20T14:15:09.628821Z",
     "start_time": "2024-06-20T14:15:09.604818Z"
    }
   },
   "outputs": [],
   "source": [
    "estado = 'Rio Grande do Sul'\n",
    "casos_minas = df_eda[df_eda['Nome_UF']==estado]\n",
    "y = casos_minas['MES'].value_counts()\n",
    "x = casos_minas['MES'].value_counts().keys()"
   ]
  },
  {
   "cell_type": "code",
   "execution_count": 6,
   "id": "9fc0701d",
   "metadata": {
    "ExecuteTime": {
     "end_time": "2024-06-20T14:15:11.094151Z",
     "start_time": "2024-06-20T14:15:10.829092Z"
    }
   },
   "outputs": [
    {
     "data": {
      "image/png": "[encoded data removed]",
      "text/plain": [
       "<Figure size 640x480 with 1 Axes>"
      ]
     },
     "metadata": {},
     "output_type": "display_data"
    }
   ],
   "source": [
    "plt.bar(x,y)\n",
    "plt.title(f'Números de casos por mês em {estado}')\n",
    "plt.xlabel('Mês')\n",
    "plt.ylabel('Número de casos')\n",
    "plt.show()"
   ]
  }
 ],
 "metadata": {
  "kernelspec": {
   "display_name": "Python 3 (ipykernel)",
   "language": "python",
   "name": "python3"
  },
  "language_info": {
   "codemirror_mode": {
    "name": "ipython",
    "version": 3
   },
   "file_extension": ".py",
   "mimetype": "text/x-python",
   "name": "python",
   "nbconvert_exporter": "python",
   "pygments_lexer": "ipython3",
   "version": "3.9.16"
  }
 },
 "nbformat": 4,
 "nbformat_minor": 5
}
